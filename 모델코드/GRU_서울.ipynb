{
 "cells": [
  {
   "cell_type": "code",
   "execution_count": null,
   "id": "bbd36556",
   "metadata": {},
   "outputs": [],
   "source": [
    "import tensorflow as tf\n",
    "import pandas as pd\n",
    "import numpy as np\n",
    "from tensorflow.keras.models import Sequential\n",
    "from tensorflow.keras.layers import SimpleRNN, LSTM, GRU"
   ]
  },
  {
   "cell_type": "code",
   "execution_count": null,
   "id": "3754bfa9",
   "metadata": {},
   "outputs": [],
   "source": [
    "from sklearn.preprocessing import MinMaxScaler, StandardScaler\n",
    "from tensorflow import keras\n",
    "from keras.layers import Dense\n",
    "from keras import layers\n",
    "from copy import deepcopy as dp\n",
    "from sklearn import metrics"
   ]
  },
  {
   "cell_type": "code",
   "execution_count": null,
   "id": "24c64372",
   "metadata": {},
   "outputs": [],
   "source": [
    "raw = pd.read_csv('../data/result/출력/최종학습데이터_서울.csv', thousands=',', index_col = 0)\n",
    "raw"
   ]
  },
  {
   "cell_type": "code",
   "execution_count": null,
   "id": "44cfe4d4",
   "metadata": {},
   "outputs": [],
   "source": [
    "raw['날짜'] = pd.to_datetime(raw[\"날짜\"])\n",
    "raw.info()"
   ]
  },
  {
   "cell_type": "code",
   "execution_count": null,
   "id": "3520c82a",
   "metadata": {},
   "outputs": [],
   "source": [
    "raw.set_index(\"날짜\", inplace=True)"
   ]
  },
  {
   "cell_type": "code",
   "execution_count": null,
   "id": "b23bddbe",
   "metadata": {},
   "outputs": [],
   "source": [
    "X = raw[['면적', '생산량', 'SPI1', 'EDI','면세유가', '수입중량(30일전)']]\n",
    "Y = raw[\"도매가격\"]"
   ]
  },
  {
   "cell_type": "code",
   "execution_count": null,
   "id": "70ea3662",
   "metadata": {},
   "outputs": [],
   "source": [
    "Y = pd.DataFrame(Y)"
   ]
  },
  {
   "cell_type": "code",
   "execution_count": null,
   "id": "a95db22d",
   "metadata": {},
   "outputs": [],
   "source": [
    "X_train = X.loc[:'2019-12-31']\n",
    "X_test = X.loc['2020-01-01':]\n",
    "y_train = Y.loc[:'2019-12-31']\n",
    "y_test = Y.loc['2020-01-01':]"
   ]
  },
  {
   "cell_type": "code",
   "execution_count": null,
   "id": "d21969a2",
   "metadata": {
    "scrolled": true
   },
   "outputs": [],
   "source": [
    "scaler = MinMaxScaler()\n",
    "X_train_scaled = scaler.fit_transform(X_train)\n",
    "X_test_scaled = scaler.transform(X_test)\n",
    "X_scaled = pd.DataFrame(X_train_scaled, columns=['면적', '생산량', 'SPI1', 'EDI','면세유가', '수입중량(30일전)'])\n",
    "X_scaled"
   ]
  },
  {
   "cell_type": "code",
   "execution_count": null,
   "id": "db1e16f1",
   "metadata": {},
   "outputs": [],
   "source": [
    "scaler = MinMaxScaler()\n",
    "y_train_scaled = scaler.fit_transform(y_train)\n",
    "y_test_scaled = scaler.transform(y_test)"
   ]
  },
  {
   "cell_type": "code",
   "execution_count": null,
   "id": "b6a18e48",
   "metadata": {},
   "outputs": [],
   "source": [
    "temp_X = dp(X_train_scaled)\n",
    "temp_y = dp(y_train_scaled)"
   ]
  },
  {
   "cell_type": "code",
   "execution_count": null,
   "id": "3fbfe60f",
   "metadata": {},
   "outputs": [],
   "source": [
    "step = 30\n",
    "X_train_t = []\n",
    "for i in range(0,len(temp_X)-step):\n",
    "    X_train_t.append(temp_X[i:i+step])"
   ]
  },
  {
   "cell_type": "code",
   "execution_count": null,
   "id": "84589a0e",
   "metadata": {},
   "outputs": [],
   "source": [
    "res = np.array(X_train_t)"
   ]
  },
  {
   "cell_type": "code",
   "execution_count": null,
   "id": "a315b7c5",
   "metadata": {},
   "outputs": [],
   "source": [
    "res_temp = []\n",
    "for i in range(step,len(temp_y)):\n",
    "    res_temp.append(temp_y[i])\n",
    "\n",
    "res_y = np.array(res_temp)"
   ]
  },
  {
   "cell_type": "code",
   "execution_count": null,
   "id": "49e7dea2",
   "metadata": {},
   "outputs": [],
   "source": [
    "res_y = res_y.reshape(len(temp_y)-step)"
   ]
  },
  {
   "cell_type": "code",
   "execution_count": null,
   "id": "e0f0b539",
   "metadata": {},
   "outputs": [],
   "source": [
    "temp_test_x = dp(X_test_scaled)\n",
    "temp_test_y = dp(y_test_scaled)\n",
    "step = 30\n",
    "X_test_t = []\n",
    "for i in range(0,len(temp_test_x)-step):\n",
    "    X_test_t.append(temp_test_x[i:i+step])\n",
    "\n",
    "y_test_t = []\n",
    "for j in range(step,len(temp_test_y)):\n",
    "    y_test_t.append(temp_test_y[j])\n",
    "    \n",
    "\n",
    "X_test_res = np.array(X_test_t)\n",
    "Y_test_res = np.array(y_test_t)\n",
    "Y_test_res = Y_test_res.reshape(len(temp_test_y)-step)"
   ]
  },
  {
   "cell_type": "code",
   "execution_count": null,
   "id": "e5df6649",
   "metadata": {},
   "outputs": [],
   "source": [
    "model = Sequential()\n",
    "model.add(GRU(200, input_shape = (30, 6),recurrent_activation = 'tanh',return_sequences= True))\n",
    "model.add(Dense(1))\n",
    "model.add(GRU(100, input_shape = (30, 6),activation = 'tanh', return_sequences= True))\n",
    "model.add(GRU(50, input_shape = (30, 6),activation = 'tanh', dropout=0.2))\n",
    "model.add(Dense(1))\n",
    "model.compile(optimizer='adam', loss='mse', metrics=['accuracy', tf.keras.metrics.RootMeanSquaredError(\"RMSE\")])\n",
    "model.summary()"
   ]
  },
  {
   "cell_type": "code",
   "execution_count": null,
   "id": "e31f913e",
   "metadata": {},
   "outputs": [],
   "source": [
    "model.fit(res, res_y, epochs=50, batch_size = 4, verbose=1)"
   ]
  },
  {
   "cell_type": "code",
   "execution_count": null,
   "id": "22d63772",
   "metadata": {},
   "outputs": [],
   "source": [
    "y_pred = model.predict(X_test_res)"
   ]
  },
  {
   "cell_type": "code",
   "execution_count": null,
   "id": "ee432ac3",
   "metadata": {},
   "outputs": [],
   "source": [
    "def scoring(y_true, y_pred) :\n",
    "    r2 = round(metrics.r2_score(y_true, y_pred),3)\n",
    "    corr = round(np.corrcoef(y_true, y_pred)[0,1], 3)\n",
    "    mape = round(metrics.mean_absolute_percentage_error(y_true, y_pred) * 100, 3)\n",
    "    rmse = round(metrics.mean_squared_error(y_true, y_pred, squared = False), 3)\n",
    "    \n",
    "    df = pd.DataFrame({\n",
    "        'R2' : r2,\n",
    "        \"Corr\" : corr,\n",
    "        \"RMSE\" : rmse,\n",
    "        \"MAPE\" : mape\n",
    "    }, index=[0])\n",
    "    return df"
   ]
  },
  {
   "cell_type": "code",
   "execution_count": null,
   "id": "096f0269",
   "metadata": {},
   "outputs": [],
   "source": [
    "Y_test_res = Y_test_res.reshape(-1,1)\n",
    "y_pred = y_pred.reshape(-1,1)\n",
    "y_pred_real = scaler.inverse_transform(y_pred)\n",
    "y_test_real = scaler.inverse_transform(Y_test_res)\n",
    "y_pred_real = y_pred_real.reshape(336)\n",
    "y_test_real = y_test_real.reshape(336)\n",
    "scoring(y_test_real,y_pred_real)"
   ]
  },
  {
   "cell_type": "markdown",
   "id": "5eea83f3",
   "metadata": {},
   "source": [
    "## 시각화"
   ]
  },
  {
   "cell_type": "code",
   "execution_count": null,
   "id": "73248435",
   "metadata": {
    "scrolled": true
   },
   "outputs": [],
   "source": [
    "X_test_edit = X_test.reset_index()\n",
    "X_test_edit = X_test_edit[:336]\n",
    "X_test_edit['정답'] = y_test_real\n",
    "X_test_edit['예측'] = y_pred_real\n",
    "X_test_graph = X_test_edit.drop(['면적','SPI1', 'EDI', '면세유가', '수입중량(30일전)', '생산량'], axis = 1)"
   ]
  },
  {
   "cell_type": "code",
   "execution_count": null,
   "id": "f60d8c47",
   "metadata": {},
   "outputs": [],
   "source": [
    "X_test_edit['정답'] = y_test_real"
   ]
  },
  {
   "cell_type": "code",
   "execution_count": null,
   "id": "e49314ec",
   "metadata": {},
   "outputs": [],
   "source": [
    "X_test_edit['예측'] = y_pred_real"
   ]
  },
  {
   "cell_type": "code",
   "execution_count": null,
   "id": "8b9c1e1d",
   "metadata": {},
   "outputs": [],
   "source": [
    "X_test_graph = X_test_edit.drop(['면적','SPI1', 'EDI', '면세유가', '수입중량(30일전)', '생산량'], axis = 1)"
   ]
  },
  {
   "cell_type": "code",
   "execution_count": null,
   "id": "59cad7e6",
   "metadata": {},
   "outputs": [],
   "source": [
    "import plotly.graph_objs as go\n",
    "\n",
    "fig = go.Figure()\n",
    "fig.add_trace(go.Scatter(x=X_test_graph['날짜'], y=X_test_graph['정답'], name='Answer', mode='lines',\n",
    "                         line={'width':6,\n",
    "                              'color':'#11653F'}))\n",
    "fig.add_trace(go.Scatter(x=X_test_graph['날짜'], y=X_test_graph['예측'], name='Prediction', mode='lines',\n",
    "                         line={'width':6,\n",
    "                               'color':'#E97D42'}))\n",
    "fig.update_layout(template = 'seaborn',\n",
    "                  paper_bgcolor='#F2EFE6',\n",
    "                  plot_bgcolor='#F2EFE6',\n",
    "                  xaxis={'title': {'text': '연도'}, # x축 라벨 추가, 그리드 숨김\n",
    "                                   'showgrid':False},\n",
    "                yaxis={'title': {'text': '서울_도매가격'}, # y축 라벨 추가\n",
    "                                   'showgrid':False}\n",
    "                 )\n",
    "fig.show()"
   ]
  }
 ],
 "metadata": {
  "kernelspec": {
   "display_name": "Python 3 (ipykernel)",
   "language": "python",
   "name": "python3"
  },
  "language_info": {
   "codemirror_mode": {
    "name": "ipython",
    "version": 3
   },
   "file_extension": ".py",
   "mimetype": "text/x-python",
   "name": "python",
   "nbconvert_exporter": "python",
   "pygments_lexer": "ipython3",
   "version": "3.9.12"
  }
 },
 "nbformat": 4,
 "nbformat_minor": 5
}
