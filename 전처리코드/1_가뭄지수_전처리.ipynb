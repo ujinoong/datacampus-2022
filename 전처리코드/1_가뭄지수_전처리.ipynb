{
 "cells": [
  {
   "cell_type": "markdown",
   "id": "222b4c67",
   "metadata": {},
   "source": [
    "### 프로젝트 요구 추가 외부 라이브러리 설치"
   ]
  },
  {
   "cell_type": "code",
   "execution_count": null,
   "id": "7404f9fd",
   "metadata": {},
   "outputs": [],
   "source": [
    "!pip install pandas\n",
    "!pip install matplotlib\n",
    "!pip install plotly\n",
    "!pip install statsmodels\n",
    "!pip install tensorflow\n",
    "!pip install keras\n",
    "!pip install scikit-learn"
   ]
  },
  {
   "cell_type": "markdown",
   "id": "a46f1759",
   "metadata": {},
   "source": [
    "# 2013~2021년도 가뭄지수 종합"
   ]
  },
  {
   "cell_type": "markdown",
   "id": "0a8fb4e3",
   "metadata": {},
   "source": [
    "## 필요한 모듈 및 데이터 import"
   ]
  },
  {
   "cell_type": "code",
   "execution_count": null,
   "id": "2b5e8340",
   "metadata": {},
   "outputs": [],
   "source": [
    "import pandas as pd\n",
    "import os\n",
    "import numpy as np\n",
    "import datetime\n",
    "from datetime import date, timedelta"
   ]
  },
  {
   "cell_type": "code",
   "execution_count": null,
   "id": "eec97b15",
   "metadata": {},
   "outputs": [],
   "source": [
    "path = '../data/가뭄/원본/'\n",
    "file_list = os.listdir(path)\n",
    "file_list_py = [file for file in file_list if file.endswith('.csv')]\n",
    "edi_concat = pd.DataFrame()\n",
    "\n",
    "for i in file_list_py:\n",
    "    data = pd.read_csv(path + i)\n",
    "    edi_concat = pd.concat([edi_concat, data])\n",
    "    \n",
    "edi_concat = edi_concat.reset_index(drop = True)"
   ]
  },
  {
   "cell_type": "markdown",
   "id": "3a1f9ea7",
   "metadata": {},
   "source": [
    "### 지점명, 시군명 변경"
   ]
  },
  {
   "cell_type": "code",
   "execution_count": null,
   "id": "028e3123",
   "metadata": {},
   "outputs": [],
   "source": [
    "#기상 관측 지점 데이터\n",
    "ob_point = pd.read_csv('../data/지역/관측지점_원본_기상청.csv')\n",
    "ob_point"
   ]
  },
  {
   "cell_type": "code",
   "execution_count": null,
   "id": "3e78fb20",
   "metadata": {},
   "outputs": [],
   "source": [
    "ob_point.drop(columns = ['종료시각', '시작시각', '노장 해발고도(m)','기압계', '기온계', '풍속계', '강우계', '위도', '경도'],\n",
    "             inplace = True)\n",
    "ob_point.rename(columns = {'(현)지점명':'지점명', '(현)주소':'주소'}, inplace = True)"
   ]
  },
  {
   "cell_type": "code",
   "execution_count": null,
   "id": "2f39890a",
   "metadata": {},
   "outputs": [],
   "source": [
    "ob_point.dropna(inplace = True)"
   ]
  },
  {
   "cell_type": "code",
   "execution_count": null,
   "id": "2d88a2f8",
   "metadata": {
    "scrolled": true
   },
   "outputs": [],
   "source": [
    "ob_point.주소 = ob_point.주소.str.split(\" \")\n",
    "region = []\n",
    "for item in ob_point['주소']:\n",
    "    first = item[0]\n",
    "    second = item[1]\n",
    "    print(first)\n",
    "    print(second)\n",
    "    if \"시\" in second:\n",
    "        region.append(second)\n",
    "    elif \"군\" in second:\n",
    "        region.append(second)\n",
    "    elif \"시\" in first:\n",
    "        region.append(first)\n",
    "ob_point[\"주소\"] = region\n",
    "\n",
    "ob_point.drop(columns='지점명',inplace = True)\n",
    "ob_point.지점코드 = ob_point.지점코드.astype(int)\n",
    "\n",
    "# 특이하게 저장된 부분들 편집\n",
    "ob_point.replace('포항시남구',\"포항시\", inplace=True)\n",
    "ob_point.replace('전주시덕진구',\"전주시\", inplace=True)\n",
    "ob_point.replace('청주시흥덕구',\"청주시\", inplace=True)\n",
    "ob_point.replace('\\xa0서울특별시', '서울특별시', inplace = True)\n",
    "ob_point.replace('\\xa0인천광역시', '인천광역시', inplace = True)\n",
    "ob_point.replace('\\xa0대전광역시', '대전광역시', inplace = True)\n",
    "ob_point.replace('\\xa0대구광역시', '대구광역시', inplace = True)\n",
    "ob_point.replace('\\xa0울산광역시', '울산광역시', inplace = True)\n",
    "ob_point.replace('\\xa0광주광역시', '광주광역시', inplace = True)\n",
    "ob_point.replace('\\xa0부산광역시', '부산광역시', inplace = True)\n",
    "\n",
    "# edi 데이터에 주소 정보를 결합하기 위해 사전으로 변경\n",
    "point_dict = ob_point.set_index('지점코드').T.to_dict('records')\n",
    "point_dict = point_dict[0]"
   ]
  },
  {
   "cell_type": "code",
   "execution_count": null,
   "id": "13d6f9c7",
   "metadata": {},
   "outputs": [],
   "source": [
    "edi_concat['시군명'] = edi_concat.지점코드.apply(lambda x: point_dict[x])"
   ]
  },
  {
   "cell_type": "code",
   "execution_count": null,
   "id": "11220447",
   "metadata": {
    "scrolled": true
   },
   "outputs": [],
   "source": [
    "edi_concat.head()"
   ]
  },
  {
   "cell_type": "code",
   "execution_count": null,
   "id": "1bb94bd4",
   "metadata": {},
   "outputs": [],
   "source": [
    "edi_concat.rename(columns = {'spi1':'SPI1', 'spi3':'SPI3', 'edi':'EDI'}, inplace = True)\n",
    "edi_concat = edi_concat[['발표일자', '지점명', '시군명', 'SPI1', 'SPI3', 'EDI']]\n",
    "edi_concat"
   ]
  },
  {
   "cell_type": "code",
   "execution_count": null,
   "id": "34e3d682",
   "metadata": {},
   "outputs": [],
   "source": [
    "# 문자형 결측치 NaN으로 변형 후 자료형 변경\n",
    "edi_concat.replace('-', np.nan, inplace = True)\n",
    "edi_concat.SPI1 = edi_concat.SPI1.astype(float)\n",
    "edi_concat.SPI3 = edi_concat.SPI3.astype(float)\n",
    "edi_concat.EDI = edi_concat.EDI.astype(float)\n",
    "edi_concat.info()"
   ]
  },
  {
   "cell_type": "code",
   "execution_count": null,
   "id": "5d849bcd",
   "metadata": {
    "scrolled": true
   },
   "outputs": [],
   "source": [
    "#날짜 중에 불연속 지점 탐색 #해당 날짜 데이터 없음\n",
    "start_date = edi_concat['발표일자'].unique()[0]\n",
    "td = timedelta(days = 1)\n",
    "\n",
    "for dt in edi_concat['발표일자'].unique()[1:]:\n",
    "    if dt != date.isoformat(date.fromisoformat(start_date) + td) :\n",
    "        print(date.fromisoformat(start_date) + td)\n",
    "        #print(start_date, dt)\n",
    "    start_date = dt"
   ]
  },
  {
   "cell_type": "code",
   "execution_count": null,
   "id": "97ff4456",
   "metadata": {
    "scrolled": false
   },
   "outputs": [],
   "source": [
    "edi_concat.info()"
   ]
  },
  {
   "cell_type": "code",
   "execution_count": null,
   "id": "4e35e620",
   "metadata": {},
   "outputs": [],
   "source": [
    "edi_concat = edi_concat[['발표일자', '지점명', '시군명', 'SPI1', 'SPI3', 'EDI']]"
   ]
  },
  {
   "cell_type": "markdown",
   "id": "41cc43d7",
   "metadata": {},
   "source": [
    "### 데이터셋 파일 저장"
   ]
  },
  {
   "cell_type": "code",
   "execution_count": null,
   "id": "76dd46aa",
   "metadata": {},
   "outputs": [],
   "source": [
    "edi_concat.to_csv('../data/가뭄/2013_2020_가뭄지수데이터.csv', encoding = 'utf-8-sig')"
   ]
  }
 ],
 "metadata": {
  "kernelspec": {
   "display_name": "Python 3 (ipykernel)",
   "language": "python",
   "name": "python3"
  },
  "language_info": {
   "codemirror_mode": {
    "name": "ipython",
    "version": 3
   },
   "file_extension": ".py",
   "mimetype": "text/x-python",
   "name": "python",
   "nbconvert_exporter": "python",
   "pygments_lexer": "ipython3",
   "version": "3.9.12"
  }
 },
 "nbformat": 4,
 "nbformat_minor": 5
}
