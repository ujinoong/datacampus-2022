{
 "cells": [
  {
   "cell_type": "markdown",
   "id": "36092aba",
   "metadata": {},
   "source": [
    "# 시장별 우세 품목 확인 (13_20년도_5대시장_거래량_통합)"
   ]
  },
  {
   "cell_type": "markdown",
   "id": "a4d167e2",
   "metadata": {},
   "source": [
    "### import"
   ]
  },
  {
   "cell_type": "code",
   "execution_count": null,
   "id": "cc51c42e",
   "metadata": {},
   "outputs": [],
   "source": [
    "import pandas as pd\n",
    "import numpy as np\n",
    "import os\n",
    "\n",
    "import datetime\n",
    "from datetime import date, timedelta\n",
    "\n",
    "import warnings\n",
    "warnings.filterwarnings(action='ignore')"
   ]
  },
  {
   "cell_type": "markdown",
   "id": "c139870d",
   "metadata": {},
   "source": [
    "### 도매 가격 종합 데이터셋 input"
   ]
  },
  {
   "cell_type": "code",
   "execution_count": null,
   "id": "38206e1c",
   "metadata": {},
   "outputs": [],
   "source": [
    "path = '../data/거래량/원본/'\n",
    "file_list = os.listdir (path)\n",
    "file_list_py = [file for file in file_list if '.xlsx' in file]\n",
    "file_list_py"
   ]
  },
  {
   "cell_type": "markdown",
   "id": "2c57aafd",
   "metadata": {},
   "source": [
    "### 데이터셋 concat."
   ]
  },
  {
   "cell_type": "code",
   "execution_count": null,
   "id": "782e08e8",
   "metadata": {},
   "outputs": [],
   "source": [
    "반입물량 = pd.DataFrame()\n",
    "\n",
    "for files in file_list_py :\n",
    "    df = pd.read_excel(path + files)\n",
    "    \n",
    "    df.drop([0, 1], inplace = True)\n",
    "    df.drop(df[df['거래년월일'] == '소계'].index, inplace = True)\n",
    "    \n",
    "    df.reset_index(drop = True, inplace = True)\n",
    "    df.rename(columns = {'거래년월일':'날짜'}, inplace = True)\n",
    "    \n",
    "    df['날짜'] = pd.to_datetime(df['날짜'])\n",
    "    df['거래량'] = df['거래량'].str.replace(',', '')\n",
    "    df.drop(['시장코드', '출하지코드', '품목코드'], axis = 1, inplace = True)    \n",
    "    \n",
    "    mapDict = {'봄배추' : '봄',\n",
    "               '고냉지배추' : '여름', \n",
    "               '여름배추' : '여름', \n",
    "               '김장(가을)배추' : '가을', \n",
    "               '월동배추' : '겨울'}\n",
    "    df['품목명'] = df['품목명'].apply(lambda x : mapDict[x])\n",
    "    \n",
    "    반입물량 = pd.concat([반입물량, df])\n",
    "    \n",
    "반입물량"
   ]
  },
  {
   "cell_type": "markdown",
   "id": "2f31ca89",
   "metadata": {},
   "source": [
    "### 시장별 각 품목별 총 거래량 합산"
   ]
  },
  {
   "cell_type": "code",
   "execution_count": null,
   "id": "96f08c18",
   "metadata": {},
   "outputs": [],
   "source": [
    "반입물량['거래량'] = 반입물량['거래량'].apply(lambda x : int(x))\n",
    "반입물량_시장별 = pd.DataFrame(반입물량.groupby(['날짜', '품목명', '시장명'])['거래량'].sum()).reset_index()\n",
    "반입물량_시장별"
   ]
  },
  {
   "cell_type": "code",
   "execution_count": null,
   "id": "c326c1eb",
   "metadata": {
    "scrolled": false
   },
   "outputs": [],
   "source": [
    "반입물량_시장별['시장명'].unique()"
   ]
  },
  {
   "cell_type": "code",
   "execution_count": null,
   "id": "e7215ad6",
   "metadata": {},
   "outputs": [],
   "source": [
    "반입물량_시장별['시장명'] = 반입물량_시장별['시장명'].apply(lambda x : x[:2])\n",
    "반입물량_시장별.columns = ['날짜', '품명', '시장', '거래량']\n",
    "반입물량_시장별 = 반입물량_시장별[['날짜', '시장', '품명', '거래량']]\n",
    "반입물량_시장별"
   ]
  },
  {
   "cell_type": "markdown",
   "id": "3cc6150b",
   "metadata": {},
   "source": [
    "### 데이터셋 파일 저장"
   ]
  },
  {
   "cell_type": "code",
   "execution_count": null,
   "id": "8d83c9e1",
   "metadata": {},
   "outputs": [],
   "source": [
    "반입물량_시장별.to_csv('../data/거래량/13_21년도_5대시장_거래량_종합.csv', encoding = 'utf-8-sig')"
   ]
  }
 ],
 "metadata": {
  "kernelspec": {
   "display_name": "Python 3 (ipykernel)",
   "language": "python",
   "name": "python3"
  },
  "language_info": {
   "codemirror_mode": {
    "name": "ipython",
    "version": 3
   },
   "file_extension": ".py",
   "mimetype": "text/x-python",
   "name": "python",
   "nbconvert_exporter": "python",
   "pygments_lexer": "ipython3",
   "version": "3.9.12"
  }
 },
 "nbformat": 4,
 "nbformat_minor": 5
}
