{
 "cells": [
  {
   "cell_type": "markdown",
   "id": "642845c8",
   "metadata": {},
   "source": [
    "# 면세유가 및 일반유가 전처리"
   ]
  },
  {
   "cell_type": "markdown",
   "id": "933e2927",
   "metadata": {},
   "source": [
    "### import"
   ]
  },
  {
   "cell_type": "code",
   "execution_count": null,
   "id": "488a9f6f",
   "metadata": {},
   "outputs": [],
   "source": [
    "import os\n",
    "import numpy as np\n",
    "import pandas as pd\n",
    "\n",
    "import warnings\n",
    "warnings.filterwarnings(action='ignore')\n",
    "\n",
    "pd.set_option('display.max_columns', None)\n",
    "pd.set_option('display.max_rows', 500)"
   ]
  },
  {
   "cell_type": "markdown",
   "id": "1c115213",
   "metadata": {},
   "source": [
    "### 데이터셋 input"
   ]
  },
  {
   "cell_type": "code",
   "execution_count": null,
   "id": "38e3ba7e",
   "metadata": {},
   "outputs": [],
   "source": [
    "일반유가 = pd.read_csv('../data/유가/원본/13_21_주유소_지역별_평균판매가격.csv', encoding = 'CP949')\n",
    "일반유가"
   ]
  },
  {
   "cell_type": "code",
   "execution_count": null,
   "id": "18c1626f",
   "metadata": {},
   "outputs": [],
   "source": [
    "일반유가.info()"
   ]
  },
  {
   "cell_type": "code",
   "execution_count": null,
   "id": "b298dc6f",
   "metadata": {},
   "outputs": [],
   "source": [
    "실제면세유가 = pd.read_csv('../data/유가/원본/15_21_주유소_지역별_면세유평균판매가격.csv', encoding = 'CP949')\n",
    "실제면세유가"
   ]
  },
  {
   "cell_type": "markdown",
   "id": "9c6a59f4",
   "metadata": {},
   "source": [
    "### 면세유가 및 일반유가 전처리"
   ]
  },
  {
   "cell_type": "code",
   "execution_count": null,
   "id": "db7261a2",
   "metadata": {},
   "outputs": [],
   "source": [
    "## 널값 interpolate 선형으로 보간\n",
    "\n",
    "실제면세유가 = 실제면세유가.interpolate(method='values')"
   ]
  },
  {
   "cell_type": "code",
   "execution_count": null,
   "id": "ea0b19b3",
   "metadata": {},
   "outputs": [],
   "source": [
    "## 일반유가로 면세유 가격 산정방식\n",
    "\n",
    "def helper(x):\n",
    "    return x - (x/11 + 528.75) \n",
    "\n",
    "계산면세유가 = 일반유가[일반유가.columns[1:]].apply(lambda x : helper(x))\n",
    "계산면세유가"
   ]
  },
  {
   "cell_type": "code",
   "execution_count": null,
   "id": "8b5ddf15",
   "metadata": {},
   "outputs": [],
   "source": [
    "## 계산한 면세유가와 실제면세유가 간 오차계산\n",
    "\n",
    "오차 = 실제면세유가.drop('구분', axis = 1) - 계산면세유가.iloc[1049:].reset_index(drop = True)\n",
    "오차"
   ]
  },
  {
   "cell_type": "code",
   "execution_count": null,
   "id": "ba7fa734",
   "metadata": {},
   "outputs": [],
   "source": [
    "## 지역별 평균 오차(지역별 주요소 전체기간 평균 마진 금액) 산정\n",
    "\n",
    "평균오차 = 오차.describe().loc['mean']\n",
    "평균오차"
   ]
  },
  {
   "cell_type": "code",
   "execution_count": null,
   "id": "167a0143",
   "metadata": {},
   "outputs": [],
   "source": [
    "## 계산면세유가에 평균주요소 마진 합산하여 면세가격 채울 부분 산정\n",
    "\n",
    "for idx in 계산면세유가.index :\n",
    "    계산면세유가.iloc[idx] += 평균오차"
   ]
  },
  {
   "cell_type": "code",
   "execution_count": null,
   "id": "1c082d91",
   "metadata": {},
   "outputs": [],
   "source": [
    "## 최종 게산면세유가\n",
    "\n",
    "계산면세유가"
   ]
  },
  {
   "cell_type": "code",
   "execution_count": null,
   "id": "d0c64eff",
   "metadata": {},
   "outputs": [],
   "source": [
    "## 날짜 삽입\n",
    "\n",
    "계산면세유가['구분'] = 일반유가['구분']\n",
    "계산면세유가"
   ]
  },
  {
   "cell_type": "code",
   "execution_count": null,
   "id": "7cf1edb0",
   "metadata": {},
   "outputs": [],
   "source": [
    "## 실제면세유 가격에 필요한 기간(2013~2015) 합산\n",
    "\n",
    "최종면세유가 = pd.concat([계산면세유가[:1049],실제면세유가]).reset_index(drop = True)\n",
    "최종면세유가"
   ]
  },
  {
   "cell_type": "code",
   "execution_count": null,
   "id": "81be7f60",
   "metadata": {},
   "outputs": [],
   "source": [
    "## 컬럼 정리\n",
    "\n",
    "최종면세유가 = 최종면세유가[['구분','서울', '부산', '대구', '인천', '광주', '대전', '울산', '경기', '강원', '충북', '충남', '전북','전남', '경북', '경남', '제주', '세종']]\n",
    "최종면세유가"
   ]
  },
  {
   "cell_type": "code",
   "execution_count": null,
   "id": "96f848e2",
   "metadata": {},
   "outputs": [],
   "source": [
    "## 날짜 형식 변경\n",
    "\n",
    "최종면세유가['구분'] = pd.to_datetime(최종면세유가['구분'], format='%Y년%m월%d일')\n",
    "최종면세유가"
   ]
  },
  {
   "cell_type": "markdown",
   "id": "e7e35d27",
   "metadata": {},
   "source": [
    "### 데이터셋 파일 저장"
   ]
  },
  {
   "cell_type": "code",
   "execution_count": null,
   "id": "fcb7feab",
   "metadata": {},
   "outputs": [],
   "source": [
    "최종면세유가.rename(columns = {'구분':'날짜'}, inplace = True)\n",
    "최종면세유가.to_csv(path_or_buf='../data/유가/13_21_면세유가.csv', encoding= 'utf-8-sig')"
   ]
  }
 ],
 "metadata": {
  "kernelspec": {
   "display_name": "Python 3 (ipykernel)",
   "language": "python",
   "name": "python3"
  },
  "language_info": {
   "codemirror_mode": {
    "name": "ipython",
    "version": 3
   },
   "file_extension": ".py",
   "mimetype": "text/x-python",
   "name": "python",
   "nbconvert_exporter": "python",
   "pygments_lexer": "ipython3",
   "version": "3.9.12"
  }
 },
 "nbformat": 4,
 "nbformat_minor": 5
}
