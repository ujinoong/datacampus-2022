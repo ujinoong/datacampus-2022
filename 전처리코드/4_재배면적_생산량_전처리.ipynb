{
 "cells": [
  {
   "cell_type": "markdown",
   "id": "2ff6e963",
   "metadata": {},
   "source": [
    "# 재배면적 및 생산량 종합"
   ]
  },
  {
   "cell_type": "markdown",
   "id": "51970cca",
   "metadata": {},
   "source": [
    "### import"
   ]
  },
  {
   "cell_type": "code",
   "execution_count": null,
   "id": "bf687f6f",
   "metadata": {},
   "outputs": [],
   "source": [
    "import pandas as pd\n",
    "import numpy as np"
   ]
  },
  {
   "cell_type": "markdown",
   "id": "c1ee196d",
   "metadata": {},
   "source": [
    "### 데이터셋 input"
   ]
  },
  {
   "cell_type": "code",
   "execution_count": null,
   "id": "09401517",
   "metadata": {},
   "outputs": [],
   "source": [
    "df_sf = pd.read_excel('../data/재배면적_생산량/원본/2013_2020_여름가을_재배면적_생산량.xlsx', thousands=',')\n",
    "df_ws = pd.read_excel('../data/재배면적_생산량/원본/2013_2020_봄겨울_재배면적_생산량.xlsx')"
   ]
  },
  {
   "cell_type": "markdown",
   "id": "24651701",
   "metadata": {},
   "source": [
    "### 반기별 데이터 concat."
   ]
  },
  {
   "cell_type": "code",
   "execution_count": null,
   "id": "a0ff7c3f",
   "metadata": {},
   "outputs": [],
   "source": [
    "df_생산량 = pd.concat([df_ws,df_sf]).reset_index(drop = True)"
   ]
  },
  {
   "cell_type": "markdown",
   "id": "08ed474e",
   "metadata": {},
   "source": [
    "### 데이터셋 파일 저장"
   ]
  },
  {
   "cell_type": "code",
   "execution_count": null,
   "id": "3c21b2a2",
   "metadata": {},
   "outputs": [],
   "source": [
    "df_생산량.to_csv(path_or_buf=\"../data/재배면적_생산량/2013_2020_주요지역_재배면적_생산량.csv\", encoding = 'utf-8-sig')"
   ]
  }
 ],
 "metadata": {
  "kernelspec": {
   "display_name": "Python 3 (ipykernel)",
   "language": "python",
   "name": "python3"
  },
  "language_info": {
   "codemirror_mode": {
    "name": "ipython",
    "version": 3
   },
   "file_extension": ".py",
   "mimetype": "text/x-python",
   "name": "python",
   "nbconvert_exporter": "python",
   "pygments_lexer": "ipython3",
   "version": "3.9.12"
  }
 },
 "nbformat": 4,
 "nbformat_minor": 5
}
