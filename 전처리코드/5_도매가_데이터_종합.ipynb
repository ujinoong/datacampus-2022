{
 "cells": [
  {
   "cell_type": "markdown",
   "id": "f2be50a2",
   "metadata": {},
   "source": [
    "# 도매 가격 데이터 종합"
   ]
  },
  {
   "cell_type": "markdown",
   "id": "c57b09d9",
   "metadata": {},
   "source": [
    "### import"
   ]
  },
  {
   "cell_type": "code",
   "execution_count": null,
   "id": "c193e5f2",
   "metadata": {},
   "outputs": [],
   "source": [
    "import os\n",
    "import numpy as np\n",
    "import pandas as pd\n",
    "\n",
    "import warnings\n",
    "warnings.filterwarnings(action='ignore')\n",
    "\n",
    "pd.set_option('display.max_columns', None)\n",
    "pd.set_option('display.max_rows', 500)"
   ]
  },
  {
   "cell_type": "markdown",
   "id": "7f89b8a9",
   "metadata": {},
   "source": [
    "### 윤년(2016년) 예외처리용 함수"
   ]
  },
  {
   "cell_type": "code",
   "execution_count": null,
   "id": "4c1cecbf",
   "metadata": {},
   "outputs": [],
   "source": [
    "def check_str(item):\n",
    "    if '/' in item:\n",
    "        date_ls = item.split('/')\n",
    "        item = '2022' + '-' + date_ls[0] + '-' + date_ls[1]\n",
    "    return item"
   ]
  },
  {
   "cell_type": "markdown",
   "id": "a505b11f",
   "metadata": {},
   "source": [
    "### 도매 가격 데이터 종합셋 작성 및 저장"
   ]
  },
  {
   "cell_type": "code",
   "execution_count": null,
   "id": "07791a84",
   "metadata": {},
   "outputs": [],
   "source": [
    "for season in ['봄', '여름', '가을', '겨울'] :\n",
    "    result = pd.DataFrame()\n",
    "    for year in range(13, 22):\n",
    "        df_raw = pd.read_excel(f'../data/도매가/원본/20{year}_5대도시_{season}배추_도매가격정보.xlsx')\n",
    "    \n",
    "        df = df_raw.T\n",
    "        df = df.rename(columns = df.iloc[0])\n",
    "        df.drop(['구분'], inplace = True)\n",
    "\n",
    "        df.reset_index(drop = False, inplace = True)\n",
    "        df.rename(columns = {'index':'날짜'}, inplace = True)\n",
    "        df = df[df != '-']\n",
    "\n",
    "        for i in df.columns:\n",
    "            df[i] = df[i].astype(str)\n",
    "            if i == '날짜':\n",
    "\n",
    "                # 윤년 예외처리                \n",
    "                df[i] = df[i].apply(lambda x : str(x))\n",
    "                df[i] = df[i].apply(lambda x : check_str(x))\n",
    "\n",
    "                df[i] = df[i].str.replace('2022', f'20{year}')\n",
    "                df[i] = df[i].str[0:10]\n",
    "\n",
    "            else:\n",
    "                df[i] = df[i].str.replace(',', '')\n",
    "                df[i] = df[i].astype(float)\n",
    "\n",
    "        result = pd.concat([result, df], axis = 0, ignore_index = True)\n",
    "    \n",
    "    result = result.assign(품명 = season)\n",
    "    result.drop(['평균', '평년'], axis = 1, inplace = True)\n",
    "\n",
    "    ## 지역_품명 별 가격 정리\n",
    "    df = result[['날짜', '품명', '서울', '부산', '대구', '광주', '대전']] # 열 순서 정렬\n",
    "\n",
    "    retDF = pd.DataFrame()\n",
    "    for raw in df.index :\n",
    "        for col in ['서울', '부산', '대구', '광주', '대전'] :\n",
    "            newDF = pd.DataFrame(columns = ['날짜', '지역', '품명', '가격'])\n",
    "            newData = {\n",
    "                '날짜' : df.loc[raw]['날짜'],\n",
    "                '지역' : col,\n",
    "                '품명' : df.loc[raw]['품명'],\n",
    "                '가격' : df.loc[raw][col]\n",
    "            }\n",
    "            newDF = newDF.append(newData, ignore_index = True)   \n",
    "            retDF = pd.concat([retDF, newDF], ignore_index = True)\n",
    "            \n",
    "    retDF.to_csv(f'../data/도매가/종합/{season}_도매_13_21년도_종합.csv', encoding='utf-8-sig')"
   ]
  },
  {
   "cell_type": "markdown",
   "id": "4b5955d9",
   "metadata": {},
   "source": [
    "### 도매 가격 종합 데이터셋 input"
   ]
  },
  {
   "cell_type": "code",
   "execution_count": null,
   "id": "1d5eb892",
   "metadata": {},
   "outputs": [],
   "source": [
    "path = '../data/도매가/종합/'\n",
    "file_list = os.listdir(path)\n",
    "file_list_py = [file for file in file_list if '종합' in file]\n",
    "file_list_py"
   ]
  },
  {
   "cell_type": "markdown",
   "id": "def614fe",
   "metadata": {},
   "source": [
    "### 데이터셋 concat."
   ]
  },
  {
   "cell_type": "code",
   "execution_count": null,
   "id": "80c85182",
   "metadata": {},
   "outputs": [],
   "source": [
    "retDF = pd.DataFrame()\n",
    "for files in file_list_py :\n",
    "    tempDF = pd.read_csv(path + files, index_col = 0)\n",
    "    retDF = pd.concat([retDF, tempDF])\n",
    "retDF = retDF.sort_values(by = '날짜', ascending = True)\n",
    "retDF"
   ]
  },
  {
   "cell_type": "markdown",
   "id": "98e8bbe0",
   "metadata": {},
   "source": [
    "### 데이터셋 파일 저장"
   ]
  },
  {
   "cell_type": "code",
   "execution_count": null,
   "id": "8119c038",
   "metadata": {},
   "outputs": [],
   "source": [
    "retDF.to_csv('../data/도매가/종합/도매_가격_완성본_13_21년도.csv', encoding = 'utf-8-sig')"
   ]
  }
 ],
 "metadata": {
  "kernelspec": {
   "display_name": "Python 3 (ipykernel)",
   "language": "python",
   "name": "python3"
  },
  "language_info": {
   "codemirror_mode": {
    "name": "ipython",
    "version": 3
   },
   "file_extension": ".py",
   "mimetype": "text/x-python",
   "name": "python",
   "nbconvert_exporter": "python",
   "pygments_lexer": "ipython3",
   "version": "3.9.12"
  }
 },
 "nbformat": 4,
 "nbformat_minor": 5
}
