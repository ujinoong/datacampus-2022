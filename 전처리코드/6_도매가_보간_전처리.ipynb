{
 "cells": [
  {
   "cell_type": "markdown",
   "id": "0f0a7cc3",
   "metadata": {},
   "source": [
    "# 도매가 데이터 결측값 보간 전처리"
   ]
  },
  {
   "cell_type": "markdown",
   "id": "cb0fb23f",
   "metadata": {},
   "source": [
    "### import"
   ]
  },
  {
   "cell_type": "code",
   "execution_count": null,
   "id": "dc08c08e",
   "metadata": {},
   "outputs": [],
   "source": [
    "import pandas as pd\n",
    "import numpy as np\n",
    "import datetime\n",
    "import copy "
   ]
  },
  {
   "cell_type": "markdown",
   "id": "2bca2dde",
   "metadata": {},
   "source": [
    "### 데이터셋 input"
   ]
  },
  {
   "cell_type": "code",
   "execution_count": null,
   "id": "3555f483",
   "metadata": {},
   "outputs": [],
   "source": [
    "도매가격 = pd.read_csv('../data/도매가/종합/도매_가격_완성본_13_21년도.csv', thousands=',',index_col = 0)"
   ]
  },
  {
   "cell_type": "code",
   "execution_count": null,
   "id": "6e588bfd",
   "metadata": {},
   "outputs": [],
   "source": [
    "도매가격.rename(columns={'가격':'도매가격'}, inplace = True)"
   ]
  },
  {
   "cell_type": "markdown",
   "id": "abc20513",
   "metadata": {},
   "source": [
    "## 도매 비어있는 날짜 추가 및 결측치 보간"
   ]
  },
  {
   "cell_type": "markdown",
   "id": "d7f624b5",
   "metadata": {},
   "source": [
    "### 기간 내 날짜 전체 생성"
   ]
  },
  {
   "cell_type": "code",
   "execution_count": null,
   "id": "c9a5ae2b",
   "metadata": {},
   "outputs": [],
   "source": [
    "start_date = pd.to_datetime('2013-01-01') ## 시작 날짜\n",
    "end_date = pd.to_datetime('2021-12-31') ## 마지막 날짜\n",
    "dates = pd.date_range(start_date,end_date,freq='D')\n",
    "dates"
   ]
  },
  {
   "cell_type": "code",
   "execution_count": null,
   "id": "46cd179c",
   "metadata": {},
   "outputs": [],
   "source": [
    "dates = pd.DataFrame(dates)\n",
    "dates"
   ]
  },
  {
   "cell_type": "code",
   "execution_count": null,
   "id": "523d9b8e",
   "metadata": {},
   "outputs": [],
   "source": [
    "dates = pd.DataFrame(dates)\n",
    "for i in range(0,4):\n",
    "    dates = dates.append(dates.loc[:3286], ignore_index = True)\n",
    "dates"
   ]
  },
  {
   "cell_type": "code",
   "execution_count": null,
   "id": "b15de81f",
   "metadata": {},
   "outputs": [],
   "source": [
    "dates.columns = ['날짜']"
   ]
  },
  {
   "cell_type": "code",
   "execution_count": null,
   "id": "e2516af2",
   "metadata": {},
   "outputs": [],
   "source": [
    "dates = dates.sort_values(by = '날짜').reset_index(drop=True)"
   ]
  },
  {
   "cell_type": "code",
   "execution_count": null,
   "id": "92d28ef0",
   "metadata": {},
   "outputs": [],
   "source": [
    "## 전 구간 전체지역 데이터프레임 생성\n",
    "\n",
    "dates[\"지역\"] = ['서울','대전','대구','부산','광주']*3287\n",
    "dates"
   ]
  },
  {
   "cell_type": "markdown",
   "id": "56d63af0",
   "metadata": {},
   "source": [
    "### 도매가 보간"
   ]
  },
  {
   "cell_type": "code",
   "execution_count": null,
   "id": "b08f38b6",
   "metadata": {},
   "outputs": [],
   "source": [
    "도매가격['날짜'] = pd.to_datetime(도매가격['날짜'], format='%Y-%m-%d')\n",
    "도매가격.info()"
   ]
  },
  {
   "cell_type": "markdown",
   "id": "15920a75",
   "metadata": {},
   "source": [
    "### 겹치는 날짜 처리를 위한 거래량 분석"
   ]
  },
  {
   "cell_type": "code",
   "execution_count": null,
   "id": "2912c31c",
   "metadata": {},
   "outputs": [],
   "source": [
    "## datetime str로 변경\n",
    "\n",
    "도매가격[\"날짜\"] = 도매가격[\"날짜\"].dt.strftime('%Y-%m-%d')\n",
    "도매가격.info()"
   ]
  },
  {
   "cell_type": "code",
   "execution_count": null,
   "id": "ea1296bf",
   "metadata": {},
   "outputs": [],
   "source": [
    "도매가격.dropna(inplace=True)\n",
    "도매가격.info()"
   ]
  },
  {
   "cell_type": "code",
   "execution_count": null,
   "id": "24689318",
   "metadata": {},
   "outputs": [],
   "source": [
    "도매가격.reset_index(drop = True, inplace = True)"
   ]
  },
  {
   "cell_type": "code",
   "execution_count": null,
   "id": "7e23321d",
   "metadata": {},
   "outputs": [],
   "source": [
    "## 같은 날 다른 품명의 날짜 추출\n",
    "\n",
    "date_list = []\n",
    "for idx in 도매가격.index:\n",
    "    point = 도매가격.iloc[idx][\"날짜\"]\n",
    "    item = 도매가격.iloc[idx][\"품명\"]\n",
    "    region = 도매가격.iloc[idx][\"지역\"]\n",
    "    if len(도매가격[(도매가격['날짜'] == point) & (도매가격['지역'] == region) & (도매가격['품명'] != item)]) != 0:\n",
    "        if pd.isna(item):\n",
    "            print(도매가격.iloc[idx])\n",
    "        else:\n",
    "            date_list.append(point)"
   ]
  },
  {
   "cell_type": "code",
   "execution_count": null,
   "id": "b6b78976",
   "metadata": {},
   "outputs": [],
   "source": [
    "date_list"
   ]
  },
  {
   "cell_type": "code",
   "execution_count": null,
   "id": "2a14240d",
   "metadata": {},
   "outputs": [],
   "source": [
    "temp = list(set(date_list))\n",
    "new_date = sorted(temp)"
   ]
  },
  {
   "cell_type": "code",
   "execution_count": null,
   "id": "e3df4f15",
   "metadata": {},
   "outputs": [],
   "source": [
    "res_date = new_date"
   ]
  },
  {
   "cell_type": "code",
   "execution_count": null,
   "id": "7134ca32",
   "metadata": {},
   "outputs": [],
   "source": [
    "df_temp = pd.read_csv(\"../data/거래량/13_21년도_5대시장_거래량_종합.csv\", index_col = 0)\n",
    "df_temp"
   ]
  },
  {
   "cell_type": "code",
   "execution_count": null,
   "id": "9daa3720",
   "metadata": {},
   "outputs": [],
   "source": [
    "## 겹치는 날짜에서 거래량 max인 품종의 품명을 추출해 리스트화\n",
    "\n",
    "item_list = []\n",
    "for date in res_date:\n",
    "    df = df_temp[df_temp[\"날짜\"] == date]\n",
    "    vol = df.groupby('품명').sum()\n",
    "    top = vol['거래량'].max()\n",
    "    item_list.append(vol[vol['거래량'] == top].index)\n",
    "item_list"
   ]
  },
  {
   "cell_type": "code",
   "execution_count": null,
   "id": "2c904458",
   "metadata": {},
   "outputs": [],
   "source": [
    "우세품 = pd.DataFrame(item_list, columns = [\"품명\"])\n",
    "우세품"
   ]
  },
  {
   "cell_type": "code",
   "execution_count": null,
   "id": "e47758e1",
   "metadata": {},
   "outputs": [],
   "source": [
    "우세품[우세품['품명'].isna()]"
   ]
  },
  {
   "cell_type": "code",
   "execution_count": null,
   "id": "43c24b1a",
   "metadata": {},
   "outputs": [],
   "source": [
    "## 거래 데이터가 없는 경우 앞 내용과 동일하게 채움 \n",
    "\n",
    "우세품.loc[[95,96,141],[\"품명\"]] = '가을'\n",
    "우세품.loc[129,[\"품명\"]]= '봄'"
   ]
  },
  {
   "cell_type": "code",
   "execution_count": null,
   "id": "00c1f3d9",
   "metadata": {},
   "outputs": [],
   "source": [
    "## 겹치는 품목이 있는 날짜 프레임 생성\n",
    "\n",
    "dup_date = pd.DataFrame(res_date, columns=['날짜'])\n",
    "dup_date"
   ]
  },
  {
   "cell_type": "code",
   "execution_count": null,
   "id": "40709500",
   "metadata": {},
   "outputs": [],
   "source": [
    "우세거래품 = pd.concat([dup_date,우세품], axis = 1)"
   ]
  },
  {
   "cell_type": "code",
   "execution_count": null,
   "id": "5793c811",
   "metadata": {},
   "outputs": [],
   "source": [
    "## 제거할 인덱스(우세품이 아닌 도매가데이터) 리스트 생성\n",
    "\n",
    "idx_ls = []\n",
    "for idx in 우세거래품.index:\n",
    "    date = 우세거래품.iloc[idx,0]\n",
    "    item = 우세거래품.iloc[idx,1]\n",
    "    print(date,item)\n",
    "    drop_idx = 도매가격[(도매가격.날짜 == date) & (도매가격.품명 != item)].index\n",
    "    for item in drop_idx:\n",
    "        idx_ls.append(item)\n",
    "    print('---------------------------------------------------------')"
   ]
  },
  {
   "cell_type": "code",
   "execution_count": null,
   "id": "da60b681",
   "metadata": {},
   "outputs": [],
   "source": [
    "도매중복수정 = 도매가격.drop(idx_ls).reset_index(drop = True)\n",
    "도매중복수정"
   ]
  },
  {
   "cell_type": "code",
   "execution_count": null,
   "id": "f23062d8",
   "metadata": {},
   "outputs": [],
   "source": [
    "dates['날짜'] = dates['날짜'].dt.strftime('%Y-%m-%d')\n",
    "dates.info()"
   ]
  },
  {
   "cell_type": "code",
   "execution_count": null,
   "id": "7557c29a",
   "metadata": {},
   "outputs": [],
   "source": [
    "## 전체 구간에 현재 보유데이터 결합\n",
    "temp = pd.merge(dates,도매중복수정, on=['날짜','지역'], how='left')\n",
    "temp"
   ]
  },
  {
   "cell_type": "code",
   "execution_count": null,
   "id": "cb562e31",
   "metadata": {},
   "outputs": [],
   "source": [
    "## 각 지역별로 분리\n",
    "\n",
    "seoul_d = temp[temp.지역 == '서울'].reset_index(drop = True)\n",
    "daejeon_d = temp[temp.지역 == '대전'].reset_index(drop = True)\n",
    "daegu_d = temp[temp.지역 == '대구'].reset_index(drop = True)\n",
    "busan_d = temp[temp.지역 == '부산'].reset_index(drop = True)\n",
    "gwangju_d = temp[temp.지역 == '광주'].reset_index(drop = True)"
   ]
  },
  {
   "cell_type": "markdown",
   "id": "e8e9a75e",
   "metadata": {},
   "source": [
    "# 전처리 - padding by ffill"
   ]
  },
  {
   "cell_type": "code",
   "execution_count": null,
   "id": "9baa9bf7",
   "metadata": {},
   "outputs": [],
   "source": [
    "## 지역별로 나누어 가격 보간\n",
    "\n",
    "seoul_p = copy.deepcopy(seoul_d)\n",
    "daejeon_p = copy.deepcopy(daejeon_d)\n",
    "daegu_p = copy.deepcopy(daegu_d)\n",
    "busan_p = copy.deepcopy(busan_d)\n",
    "gwangju_p = copy.deepcopy(gwangju_d)\n",
    "pad_ls = [seoul_p, daejeon_p, daegu_p, busan_p, gwangju_p]\n",
    "\n",
    "for value in pad_ls:\n",
    "    temp = value.도매가격.fillna(method='ffill',inplace = True)\n",
    "    print(value[value.도매가격.isna()])"
   ]
  },
  {
   "cell_type": "code",
   "execution_count": null,
   "id": "89096b60",
   "metadata": {},
   "outputs": [],
   "source": [
    "## 시작날짜 결측치 전날(2012-12-31)과 다음날 평균으로 대체\n",
    "\n",
    "pr = [13000,13000,12000,12000,11500]\n",
    "for item, value in zip(pad_ls,pr):\n",
    "    item.iloc[0,3] = value"
   ]
  },
  {
   "cell_type": "code",
   "execution_count": null,
   "id": "f2bb059b",
   "metadata": {},
   "outputs": [],
   "source": [
    "## 품명보간\n",
    "\n",
    "for item in pad_ls:\n",
    "    item.interpolate(method = 'pad', limit=30, inplace=True) # 최근 값으로 보간\n",
    "    item.fillna('가을', inplace= True)#시작날짜 품명 보간"
   ]
  },
  {
   "cell_type": "markdown",
   "id": "8f65d46c",
   "metadata": {},
   "source": [
    "### 데이터셋 파일 저장"
   ]
  },
  {
   "cell_type": "code",
   "execution_count": null,
   "id": "d430dd79",
   "metadata": {},
   "outputs": [],
   "source": [
    "seoul_p.to_csv(path_or_buf='../data/도매가/보간/13_21_서울_도매가보간.csv', encoding = 'utf-8-sig')\n",
    "daejeon_p.to_csv(path_or_buf='../data/도매가/보간/13_21_대전_도매가보간.csv', encoding = 'utf-8-sig')\n",
    "daegu_p.to_csv(path_or_buf='../data/도매가/보간/13_21_대구_도매가보간.csv', encoding = 'utf-8-sig')\n",
    "busan_p.to_csv(path_or_buf='../data/도매가/보간/13_21_부산_도매가보간.csv', encoding = 'utf-8-sig')\n",
    "gwangju_p.to_csv(path_or_buf='../data/도매가/보간/13_21_광주_도매가보간.csv', encoding = 'utf-8-sig')"
   ]
  }
 ],
 "metadata": {
  "kernelspec": {
   "display_name": "Python 3 (ipykernel)",
   "language": "python",
   "name": "python3"
  },
  "language_info": {
   "codemirror_mode": {
    "name": "ipython",
    "version": 3
   },
   "file_extension": ".py",
   "mimetype": "text/x-python",
   "name": "python",
   "nbconvert_exporter": "python",
   "pygments_lexer": "ipython3",
   "version": "3.9.12"
  }
 },
 "nbformat": 4,
 "nbformat_minor": 5
}
