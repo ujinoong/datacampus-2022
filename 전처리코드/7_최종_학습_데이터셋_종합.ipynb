{
 "cells": [
  {
   "cell_type": "markdown",
   "id": "3dc21a25",
   "metadata": {},
   "source": [
    "# [가뭄지수 + 생산량 + 재배면적 + 종합유가 + 도매가] 데이터셋 작성"
   ]
  },
  {
   "cell_type": "markdown",
   "id": "83f48cae",
   "metadata": {},
   "source": [
    "### import"
   ]
  },
  {
   "cell_type": "code",
   "execution_count": null,
   "id": "d84b0b22",
   "metadata": {},
   "outputs": [],
   "source": [
    "import os\n",
    "import numpy as np\n",
    "import pandas as pd\n",
    "import statistics\n",
    "import datetime\n",
    "from datetime import date, timedelta\n",
    "from dateutil.relativedelta import relativedelta\n",
    "import datetime as dt \n",
    "import warnings\n",
    "warnings.filterwarnings(action='ignore')\n",
    "\n",
    "pd.set_option('display.max_columns', None)\n",
    "pd.set_option('display.max_rows', 500)"
   ]
  },
  {
   "cell_type": "markdown",
   "id": "a8dbdd5e",
   "metadata": {},
   "source": [
    "### 데이터셋 input"
   ]
  },
  {
   "cell_type": "code",
   "execution_count": null,
   "id": "09dbd44d",
   "metadata": {},
   "outputs": [],
   "source": [
    "## 예측가격 결정요인\n",
    "가뭄지수 = pd.read_csv(\"../data/가뭄/2013_2020_가뭄지수데이터.csv\", index_col = 0)\n",
    "면세유가 = pd.read_csv(\"../data/유가/13_21_면세유가.csv\", index_col = 0)\n",
    "일반유가 = pd.read_csv(\"../data/유가/원본/13_21_주유소_지역별_평균판매가격.csv\", encoding = \"CP949\")\n",
    "면적생산 = pd.read_csv(\"../data/재배면적_생산량/2013_2020_주요지역_재배면적_생산량.csv\", index_col = 0)\n",
    "수입량 = pd.read_csv(\"../data/수입량/2013_2021월간배추수입량.csv\", encoding = \"CP949\", names=[\"연도\", \"월\", \"수출(중량)\", \"수출(금액)\", \"수입(중량)\", \"수입(금액)\"], thousands = ',')\n",
    "\n",
    "## 관측지점 관련 데이터\n",
    "addr = pd.read_excel('../data/지역/한국행정구역분류_2022.7.1.기준_20220630022706.xlsx', sheet_name = 1, header = [2, 2])\n",
    "addr.drop('Unnamed: 0_level_0', axis = 1, inplace = True)\n",
    "addr.columns = addr.columns.droplevel(1)\n",
    "ori_coords = pd.read_excel('../data/지역/행정구역별_위경도_좌표.xlsx', sheet_name = None)\n",
    "obPoints = pd.read_csv('../data/지역/관측지점_원본_기상청.csv')"
   ]
  },
  {
   "cell_type": "markdown",
   "id": "2631e242",
   "metadata": {},
   "source": [
    "### 태백시의 가뭄지수 결측치에 대한 대체값(최인접 지점-봉화군(결측)-울진군) 적용"
   ]
  },
  {
   "cell_type": "code",
   "execution_count": null,
   "id": "897975d8",
   "metadata": {},
   "outputs": [],
   "source": [
    "태백측정일자 = list()\n",
    "for item in 가뭄지수[가뭄지수['시군명'] == '태백시']['발표일자'].unique() :\n",
    "    태백측정일자.append(item)\n",
    "\n",
    "가뭄지수_울진 = 가뭄지수[가뭄지수['시군명'] == '울진군']\n",
    "가뭄지수_울진_추출 = 가뭄지수_울진[가뭄지수['발표일자'].apply(lambda x : x in 태백측정일자) == False]\n",
    "\n",
    "## 추출된 울진지점 정보에 태백시 대입\n",
    "가뭄지수_울진_추출['지점명'] = '태백'\n",
    "가뭄지수_울진_추출['시군명'] = '태백시'\n",
    "#가뭄지수_울진_추출['시도명'] = '강원'\n",
    "가뭄지수_울진_추출\n",
    "\n",
    "가뭄지수 = pd.concat([가뭄지수, 가뭄지수_울진_추출], ignore_index = True)\n",
    "가뭄지수"
   ]
  },
  {
   "cell_type": "markdown",
   "id": "72475a5d",
   "metadata": {},
   "source": [
    "## 1. 가뭄지수 + 종합유가(일반유가 + 면세유가)"
   ]
  },
  {
   "cell_type": "code",
   "execution_count": null,
   "id": "f77df5fd",
   "metadata": {},
   "outputs": [],
   "source": [
    "## 특이하게 저장된 부분들 편집\n",
    "가뭄지수.replace('포항시남구',\"포항시\", inplace=True)\n",
    "가뭄지수.replace('전주시덕진구',\"전주시\", inplace=True)\n",
    "가뭄지수.replace('청주시흥덕구',\"청주시\", inplace=True)\n",
    "가뭄지수.replace('\\xa0서울특별시', '서울특별시', inplace = True)\n",
    "가뭄지수.replace('\\xa0인천광역시', '인천광역시', inplace = True)\n",
    "가뭄지수.replace('\\xa0대전광역시', '대전광역시', inplace = True)\n",
    "가뭄지수.replace('\\xa0대구광역시', '대구광역시', inplace = True)\n",
    "가뭄지수.replace('\\xa0울산광역시', '울산광역시', inplace = True)\n",
    "가뭄지수.replace('\\xa0광주광역시', '광주광역시', inplace = True)\n",
    "가뭄지수.replace('\\xa0부산광역시', '부산광역시', inplace = True)"
   ]
  },
  {
   "cell_type": "markdown",
   "id": "ce043f3c",
   "metadata": {},
   "source": [
    "### 1-1. 가뭄지수 관측지점의 시도명 추출"
   ]
  },
  {
   "cell_type": "code",
   "execution_count": null,
   "id": "d57524fb",
   "metadata": {},
   "outputs": [],
   "source": [
    "## 시도명 컬럼 추가\n",
    "## (time...)\n",
    "가뭄지수['시도명'] = ''\n",
    "\n",
    "## 시도명 탐색 후 대입\n",
    "def helper(target) :\n",
    "    try :\n",
    "        ans = addr[addr['시군구'] == target].iloc[0]['시도']\n",
    "    except :\n",
    "        ans = addr[addr['시도'] == target].iloc[0]['시도']\n",
    "        \n",
    "    if ans[:2] in 면세유가.columns :\n",
    "        return ans[:2]\n",
    "    else :\n",
    "        return (ans[0] + ans[2])\n",
    "\n",
    "가뭄지수['시도명'] = 가뭄지수['시군명'].apply(lambda x : helper(x))\n",
    "가뭄지수"
   ]
  },
  {
   "cell_type": "markdown",
   "id": "e5779ccb",
   "metadata": {},
   "source": [
    "### 1-2. 일반유가 merge"
   ]
  },
  {
   "cell_type": "code",
   "execution_count": null,
   "id": "d743229c",
   "metadata": {},
   "outputs": [],
   "source": [
    "## 일반유가 Merge\n",
    "## (time...)\n",
    "\n",
    "일반유가['구분'] = 일반유가['구분'].str.replace('년', '-')\n",
    "일반유가['구분'] = 일반유가['구분'].str.replace('월', '-')\n",
    "일반유가['구분'] = 일반유가['구분'].str.replace('일', '')\n",
    "일반유가\n",
    "\n",
    "## 컬럼으로 나누어진 지명을 로우로 변환\n",
    "일반유가_월별정리 = pd.DataFrame()\n",
    "for idx in 일반유가.index :\n",
    "    for col in 일반유가.columns[1:] :\n",
    "        temp = {'날짜' : 일반유가['구분'][idx], '지역' : col, '일반유가' : 일반유가[col][idx]}\n",
    "        일반유가_월별정리 = pd.concat([일반유가_월별정리, pd.DataFrame([temp])])\n",
    "\n",
    "## 가뭄지수-일반유가 Merge\n",
    "가뭄지수_일반 = pd.merge(가뭄지수, 일반유가_월별정리, left_on = ['발표일자', '시도명'], right_on = ['날짜', '지역'], how = 'left')\n",
    "가뭄지수_일반"
   ]
  },
  {
   "cell_type": "markdown",
   "id": "d9d23493",
   "metadata": {},
   "source": [
    "### 1-3. 면세유가 merge"
   ]
  },
  {
   "cell_type": "code",
   "execution_count": null,
   "id": "78a59a61",
   "metadata": {
    "scrolled": false
   },
   "outputs": [],
   "source": [
    "## 면세유가 Merge\n",
    "## (time...)\n",
    "\n",
    "## 컬럼으로 나누어진 지명을 로우로 변환\n",
    "면세유가_월별정리 = pd.DataFrame()\n",
    "for idx in 면세유가.index :\n",
    "    for col in 면세유가.columns[1:] :\n",
    "        temp = {'날짜' : 면세유가['날짜'][idx], \n",
    "                '지역' : col, \n",
    "                '면세유가' : 면세유가[col][idx]}\n",
    "        면세유가_월별정리 = pd.concat([면세유가_월별정리, pd.DataFrame([temp])])\n",
    "면세유가_월별정리\n",
    "\n",
    "## 가뭄지수-면세유가 Merge\n",
    "가뭄지수_종합유가 = pd.merge(가뭄지수_일반, 면세유가_월별정리, left_on = ['날짜', '지역'], right_on = ['날짜', '지역'], how = 'left')\n",
    "가뭄지수_종합유가"
   ]
  },
  {
   "cell_type": "markdown",
   "id": "0e51d4b7",
   "metadata": {},
   "source": [
    "## 2. (가뭄지수+종합유가) + 면적생산"
   ]
  },
  {
   "cell_type": "code",
   "execution_count": null,
   "id": "d995bed9",
   "metadata": {},
   "outputs": [],
   "source": [
    "## 연도 컬럼 추가\n",
    "가뭄지수_종합유가['연도'] = ''\n",
    "가뭄지수_종합유가['연도'] = 가뭄지수_종합유가['발표일자'].apply(lambda x : x[:4])\n",
    "가뭄지수_종합유가"
   ]
  },
  {
   "cell_type": "markdown",
   "id": "871746fa",
   "metadata": {},
   "source": [
    "### 2-1. 각 배추 품종별 최대면적 row 추출"
   ]
  },
  {
   "cell_type": "code",
   "execution_count": null,
   "id": "dff051bd",
   "metadata": {},
   "outputs": [],
   "source": [
    "# 계절별 구분 필요\n",
    "최대값 = pd.DataFrame()\n",
    "for season in 면적생산['품명'].unique() :\n",
    "    temp = pd.DataFrame(면적생산[면적생산['품명'] == season].groupby(['연도', '품명'])['면적'].max()).reset_index()\n",
    "    최대값 = pd.concat([최대값, temp] , ignore_index = True)\n",
    "최대값"
   ]
  },
  {
   "cell_type": "markdown",
   "id": "0aa64382",
   "metadata": {},
   "source": [
    "### 2-2. 최대면적 해당 지역 및 생산량 탐색"
   ]
  },
  {
   "cell_type": "code",
   "execution_count": null,
   "id": "17f48bc9",
   "metadata": {},
   "outputs": [],
   "source": [
    "면적생산_최대면적 = pd.DataFrame()\n",
    "for idx in 최대값.index :\n",
    "    \n",
    "    merged = 면적생산[(면적생산['연도'] == 최대값['연도'][idx]) & \n",
    "                   (면적생산['품명'] == 최대값['품명'][idx]) &\n",
    "                   (면적생산['면적'] == 최대값['면적'][idx])]\n",
    "    \n",
    "    면적생산_최대면적 = pd.concat([면적생산_최대면적, merged] , ignore_index = True)\n",
    "면적생산_최대면적['지역'] = 면적생산_최대면적['지역'].replace('예산시', '예산군')"
   ]
  },
  {
   "cell_type": "markdown",
   "id": "5bdeb99a",
   "metadata": {},
   "source": [
    "### 2-3. 관측지점 대체 지역 리스트 작성"
   ]
  },
  {
   "cell_type": "code",
   "execution_count": null,
   "id": "e2b49eb3",
   "metadata": {
    "scrolled": true
   },
   "outputs": [],
   "source": [
    "## 최대면적 해당 지역과 관측지점 불일치로 인한 대체 지역 리스트\n",
    "noItemLi = list()\n",
    "for item in 면적생산_최대면적['지역'].unique()  :\n",
    "    if not item in 가뭄지수_종합유가['시군명'].unique() :\n",
    "        noItemLi.append(item)\n",
    "\n",
    "## 관측지점 불일치 지점 목록 DF화\n",
    "noItemDF = pd.DataFrame(noItemLi, columns = ['시군구'])\n",
    "\n",
    "## 개정 지명 예외처리\n",
    "noItemDF.replace('마산시', '창원시', inplace = True)\n",
    "noItemDF.replace('진해시', '창원시', inplace = True)\n",
    "noItemDF.replace('예산시', '예산군', inplace = True)\n",
    "noItemDF.replace('세종특별시', '세종특별자치시', inplace = True)\n",
    "\n",
    "noItemDF"
   ]
  },
  {
   "cell_type": "markdown",
   "id": "358ea025",
   "metadata": {},
   "source": [
    "### 2-4. 관측지점 대체를 위한 지점별 좌표 정보 탐색"
   ]
  },
  {
   "cell_type": "code",
   "execution_count": null,
   "id": "b1b7aab8",
   "metadata": {},
   "outputs": [],
   "source": [
    "pd.concat(ori_coords, ignore_index = True)"
   ]
  },
  {
   "cell_type": "code",
   "execution_count": null,
   "id": "b2f51782",
   "metadata": {},
   "outputs": [],
   "source": [
    "## 행정구역별 좌표 자료\n",
    "ori_coords = pd.concat(ori_coords, ignore_index = True)\n",
    "\n",
    "## 시군구 단위 추출\n",
    "coords = ori_coords\n",
    "\n",
    "dropidx = coords[coords['읍면동/구'].isna() == False].index\n",
    "coords.drop(dropidx, inplace = True)\n",
    "coords.drop(['읍면동/구', '읍/면/리/동', '리'], axis = 1, inplace = True)\n",
    "coords.reset_index(drop = True, inplace =True)\n",
    "\n",
    "#coords.to_csv(\"./data/지역/전국행정구역좌표정리.csv\", encoding = 'utf-8-sig')\n",
    "\n",
    "coords['시군구'].fillna(coords['시도'], inplace = True)\n",
    "coords['시군구'].str.strip()\n",
    "\n",
    "coords"
   ]
  },
  {
   "cell_type": "markdown",
   "id": "706aa81c",
   "metadata": {},
   "source": [
    "### 2-5. 관측지점 불일치 지점의 좌표 정보 mapping"
   ]
  },
  {
   "cell_type": "code",
   "execution_count": null,
   "id": "bb1b8a52",
   "metadata": {
    "scrolled": true
   },
   "outputs": [],
   "source": [
    "noItemCoordsDF = pd.merge(noItemDF, coords, on = '시군구', how = 'left').drop('시도', axis = 1)\n",
    "noItemCoordsDF['대체지점명'] = ''\n",
    "noItemCoordsDF"
   ]
  },
  {
   "cell_type": "markdown",
   "id": "d74cbd94",
   "metadata": {},
   "source": [
    "### 2-6. 기상청 관측지점 좌표 정보 탐색"
   ]
  },
  {
   "cell_type": "code",
   "execution_count": null,
   "id": "b0023af9",
   "metadata": {
    "scrolled": true
   },
   "outputs": [],
   "source": [
    "## 기상청 관측지점 정보\n",
    "obPoints.dropna(inplace = True)\n",
    "obPoints.drop(columns = ['종료시각', '시작시각', '노장 해발고도(m)','기압계', '기온계', '풍속계', '강우계'], inplace = True)\n",
    "obPoints.columns = ['지점코드', '지점명', '주소', '위도', '경도']\n",
    "obPoints.reset_index(drop = True)\n",
    "\n",
    "obPoints.주소 = obPoints.주소.str.split(\" \")\n",
    "region = []\n",
    "for item in obPoints[\"주소\"]:\n",
    "    first = item[0]\n",
    "    second = item[1]\n",
    "    \n",
    "    if \"시\" in second:\n",
    "        region.append(second)\n",
    "    elif \"군\" in second:\n",
    "        region.append(second)\n",
    "    elif \"시\" in first:\n",
    "        region.append(first)\n",
    "        \n",
    "obPoints[\"주소\"] = region\n",
    "\n",
    "## 원본 데이터 내 이상 데이터 편집\n",
    "obPoints.replace('포항시남구',\"포항시\", inplace=True)\n",
    "obPoints.replace('전주시덕진구',\"전주시\", inplace=True)\n",
    "obPoints.replace('청주시흥덕구',\"청주시\", inplace=True)\n",
    "obPoints.replace('\\xa0서울특별시', '서울특별시', inplace = True)\n",
    "obPoints.replace('\\xa0인천광역시', '인천광역시', inplace = True)\n",
    "obPoints.replace('\\xa0대전광역시', '대전광역시', inplace = True)\n",
    "obPoints.replace('\\xa0대구광역시', '대구광역시', inplace = True)\n",
    "obPoints.replace('\\xa0울산광역시', '울산광역시', inplace = True)\n",
    "obPoints.replace('\\xa0광주광역시', '광주광역시', inplace = True)\n",
    "obPoints.replace('\\xa0부산광역시', '부산광역시', inplace = True)\n",
    "\n",
    "## 전체 기상청 관측지점 중 가뭄지수 관측 지점에 해당하는 68개 지점 추출\n",
    "def helper(x) :\n",
    "    if x in list(가뭄지수['시군명'].unique()) :\n",
    "        return x\n",
    "    else :\n",
    "        np.nan\n",
    "\n",
    "obPoints['주소'] = obPoints['주소'].apply(lambda x : helper(x))\n",
    "obPoints.dropna(inplace = True)\n",
    "obPoints.reset_index(drop = True, inplace = True)\n",
    "\n",
    "obPoints"
   ]
  },
  {
   "cell_type": "markdown",
   "id": "fe7a1ae2",
   "metadata": {},
   "source": [
    "### 2-7. 최단거리내의 대체 관측지점 탐색 및 대입"
   ]
  },
  {
   "cell_type": "code",
   "execution_count": null,
   "id": "9f2fee22",
   "metadata": {
    "scrolled": true
   },
   "outputs": [],
   "source": [
    "def dist(x_long, x_lati) :\n",
    "    minLi = list()\n",
    "    \n",
    "    for idx in obPoints.index :\n",
    "        long = pow(float(x_long) - float(obPoints.loc[idx]['경도']), 2)\n",
    "        lati = pow(float(x_lati) - float(obPoints.loc[idx]['위도']), 2)\n",
    "        minLi.append([np.sqrt(long + lati), obPoints.loc[idx]['주소']])\n",
    "        \n",
    "    return minLi[minLi.index(min(minLi))][1]\n",
    "\n",
    "noItemCoordsDF['대체지점명'] = noItemCoordsDF.apply(lambda x : dist(x['경도'], x['위도']), axis = 1)\n",
    "noItemCoordsDF.drop_duplicates(keep = 'first', inplace = True)\n",
    "noItemCoordsDF"
   ]
  },
  {
   "cell_type": "markdown",
   "id": "7a39a0e3",
   "metadata": {},
   "source": [
    "### 2-8. 대체관측지점 추가"
   ]
  },
  {
   "cell_type": "code",
   "execution_count": null,
   "id": "75bf29c4",
   "metadata": {
    "scrolled": true
   },
   "outputs": [],
   "source": [
    "면적생산_대체지점 = pd.merge(면적생산_최대면적, noItemCoordsDF, left_on = '지역', right_on = '시군구', how = 'left')\n",
    "면적생산_대체지점 = 면적생산_대체지점[['연도', '품명', '지역', '면적', '생산량', '대체지점명']]\n",
    "\n",
    "## 대체지점있을 경우 적용, 없으면 기존 관측지점을 그대로 적용\n",
    "def helper(x_ori, x_rep) :\n",
    "    if pd.isna(x_rep) :\n",
    "        return x_ori\n",
    "    else :\n",
    "        return x_rep\n",
    "\n",
    "면적생산_대체지점['관측지점명'] = 면적생산_대체지점.apply(lambda x : helper(x['지역'], x['대체지점명']), axis = 1)\n",
    "면적생산_대체지점.drop(['대체지점명'], axis = 1, inplace = True)\n",
    "면적생산_대체지점.columns = ['연도', '품명', '지명' ,'면적', '생산량', '관측지점명']\n",
    "면적생산_대체지점['연도'] = 면적생산_대체지점['연도'].apply(lambda x : str(x))\n",
    "면적생산_대체지점"
   ]
  },
  {
   "cell_type": "markdown",
   "id": "484f10e3",
   "metadata": {},
   "source": [
    "### 2-9. 면적생산 merge"
   ]
  },
  {
   "cell_type": "code",
   "execution_count": null,
   "id": "410d80ea",
   "metadata": {
    "scrolled": true
   },
   "outputs": [],
   "source": [
    "## 가뭄지수_종합유가 DF - 면적생산 DF Merge\n",
    "가뭄지수_종합유가_면적생산 = pd.merge(가뭄지수_종합유가, 면적생산_대체지점, left_on = ['연도', '시군명'], right_on = ['연도', '관측지점명'], how = 'right')\n",
    "\n",
    "가뭄지수_종합유가_면적생산.drop(['연도'], axis = 1, inplace = True)\n",
    "가뭄지수_종합유가_면적생산 = 가뭄지수_종합유가_면적생산[['발표일자', '품명', '지점명', '시군명', '시도명', '지역', '관측지점명', '일반유가', '면세유가', '지명', '면적', '생산량', 'SPI1', 'SPI3', 'EDI']]\n",
    "가뭄지수_종합유가_면적생산"
   ]
  },
  {
   "cell_type": "markdown",
   "id": "4339dee8",
   "metadata": {},
   "source": [
    "# 3. (가뭄지수+종합유가 + 면적생산) + 수입량액"
   ]
  },
  {
   "cell_type": "markdown",
   "id": "bcee2518",
   "metadata": {},
   "source": [
    "### 3-1. 수입량액 자료열 정리"
   ]
  },
  {
   "cell_type": "code",
   "execution_count": null,
   "id": "ce59dcee",
   "metadata": {},
   "outputs": [],
   "source": [
    "수입량.drop(['수출(중량)', '수출(금액)', '수입(금액)'], axis = 1, inplace = True)\n",
    "수입량.drop(수입량[수입량['월'] == '합'].index, inplace = True)\n",
    "수입량.columns = ['연도', '월', '수입중량']\n",
    "\n",
    "수입량['연도'] = 수입량['연도'].apply(lambda x : str(x))\n",
    "수입량['월'] = 수입량['월'].apply(lambda x : str(x))\n",
    "\n",
    "수입량['연월'] = 수입량['연도'] + '-' + 수입량['월']\n",
    "수입량.drop(['연도', '월'], axis = 1, inplace = True)\n",
    "수입량 = 수입량[['연월', '수입중량']]\n",
    "수입량"
   ]
  },
  {
   "cell_type": "markdown",
   "id": "d15f4c27",
   "metadata": {},
   "source": [
    "### 3-2. 수입량액 연월 정보 추가 및 발표일자 str화"
   ]
  },
  {
   "cell_type": "code",
   "execution_count": null,
   "id": "bf0efc76",
   "metadata": {},
   "outputs": [],
   "source": [
    "가뭄지수_종합유가_면적생산['발표일자'] = 가뭄지수_종합유가_면적생산['발표일자'].apply(lambda x : str(x))\n",
    "가뭄지수_종합유가_면적생산['연월'] = 가뭄지수_종합유가_면적생산['발표일자'].apply(lambda x : x[:7])"
   ]
  },
  {
   "cell_type": "markdown",
   "id": "54d6dd67",
   "metadata": {},
   "source": [
    "### 3-3. 수입량액 merge"
   ]
  },
  {
   "cell_type": "code",
   "execution_count": null,
   "id": "5230821a",
   "metadata": {
    "scrolled": true
   },
   "outputs": [],
   "source": [
    "가뭄지수_종합유가_면적생산_수입량액 = pd.merge(가뭄지수_종합유가_면적생산, 수입량, on = '연월', how = 'left')\n",
    "\n",
    "가뭄지수_종합유가_면적생산_수입량액.drop(['연월'], axis = 1, inplace = True)\n",
    "가뭄지수_종합유가_면적생산_수입량액 = 가뭄지수_종합유가_면적생산_수입량액[['발표일자', '품명', '지점명', '시군명', '시도명', '지역', '지명', '관측지점명', '일반유가', '면세유가',  '면적','생산량', '수입중량', 'SPI1', 'SPI3', 'EDI']]\n",
    "\n",
    "가뭄지수_종합유가_면적생산_수입량액"
   ]
  },
  {
   "cell_type": "markdown",
   "id": "16682ae8",
   "metadata": {},
   "source": [
    "# 4. (가뭄지수+면세유가 + 면적생산 + 수입량액) + 도매가(지역별)"
   ]
  },
  {
   "cell_type": "markdown",
   "id": "41285114",
   "metadata": {},
   "source": [
    "### 4-1. 지역별 최종학습데이터셋 파일 저장"
   ]
  },
  {
   "cell_type": "code",
   "execution_count": null,
   "id": "7c8ddda2",
   "metadata": {},
   "outputs": [],
   "source": [
    "최종 = list()\n",
    "for loc in ['서울', '부산', '대구', '광주', '대전'] :\n",
    "    df = pd.read_csv(f'../data/도매가/보간/13_21_{loc}_도매가보간.csv', encoding = 'utf-8-sig', index_col = 0)\n",
    "    df.drop('지역', axis = 1, inplace = True)\n",
    "    \n",
    "    최종학습데이터 = pd.merge(가뭄지수_종합유가_면적생산_수입량액, df, left_on = ['발표일자', '품명'], right_on = ['날짜', '품명'], how = 'right')\n",
    "    최종학습데이터.dropna(inplace = True)\n",
    "    최종학습데이터.drop(['날짜'], axis = 1, inplace = True)\n",
    "    \n",
    "    최종학습데이터.rename(columns = {'발표일자' : '날짜'}, inplace = True)\n",
    "    최종학습데이터 = 최종학습데이터[['날짜', '품명', '지역', '지명', '관측지점명', '일반유가', '면세유가', '면적', '생산량', '수입중량', 'SPI1', 'SPI3', 'EDI', '도매가격']].reset_index(drop = True)\n",
    "    \n",
    "    최종학습데이터.to_csv(f'../data/result/입력/학습데이터1차_{loc}.csv', encoding = 'utf-8-sig')\n",
    "    최종.append(최종학습데이터)"
   ]
  },
  {
   "cell_type": "code",
   "execution_count": null,
   "id": "829b3cce",
   "metadata": {},
   "outputs": [],
   "source": [
    "최종[0]"
   ]
  },
  {
   "cell_type": "code",
   "execution_count": null,
   "id": "1e43db31",
   "metadata": {},
   "outputs": [],
   "source": [
    "최종[0].info()"
   ]
  },
  {
   "cell_type": "markdown",
   "id": "8dfbd5f2",
   "metadata": {},
   "source": [
    "### 최종학습데이터셋 조정 시 필요 데이터셋 저장"
   ]
  },
  {
   "cell_type": "code",
   "execution_count": null,
   "id": "69946cb0",
   "metadata": {},
   "outputs": [],
   "source": [
    "가뭄지수.to_csv(\"../data/result/입력/가뭄지수_최종정리.csv\", encoding = \"utf-8-sig\")\n",
    "일반유가_월별정리.to_csv(\"../data/result/입력/일반유가_최종정리.csv\", encoding = \"utf-8-sig\")\n",
    "면세유가_월별정리.to_csv(\"../data/result/입력/면세유가_최종정리.csv\", encoding = \"utf-8-sig\")\n",
    "면적생산_대체지점.to_csv(\"../data/result/입력/면적생산_최종정리.csv\", encoding = \"utf-8-sig\")\n",
    "수입량.to_csv(\"../data/result/입력/수입량_최종정리.csv\", encoding = \"utf-8-sig\")"
   ]
  }
 ],
 "metadata": {
  "kernelspec": {
   "display_name": "Python 3 (ipykernel)",
   "language": "python",
   "name": "python3"
  },
  "language_info": {
   "codemirror_mode": {
    "name": "ipython",
    "version": 3
   },
   "file_extension": ".py",
   "mimetype": "text/x-python",
   "name": "python",
   "nbconvert_exporter": "python",
   "pygments_lexer": "ipython3",
   "version": "3.9.12"
  }
 },
 "nbformat": 4,
 "nbformat_minor": 5
}
