{
 "cells": [
  {
   "cell_type": "markdown",
   "id": "3dc21a25",
   "metadata": {},
   "source": [
    "# 최종학습데이터셋_부산_Shift&Merge"
   ]
  },
  {
   "cell_type": "markdown",
   "id": "16c9eb32",
   "metadata": {},
   "source": [
    "### import"
   ]
  },
  {
   "cell_type": "code",
   "execution_count": null,
   "id": "d84b0b22",
   "metadata": {},
   "outputs": [],
   "source": [
    "import os\n",
    "import copy\n",
    "import numpy as np\n",
    "import pandas as pd\n",
    "import statistics\n",
    "import datetime\n",
    "from datetime import date, timedelta\n",
    "from dateutil.relativedelta import relativedelta\n",
    "import datetime as dt \n",
    "import warnings\n",
    "warnings.filterwarnings(action='ignore')\n",
    "\n",
    "pd.set_option('display.max_columns', None)\n",
    "pd.set_option('display.max_rows', 500)"
   ]
  },
  {
   "cell_type": "markdown",
   "id": "6ef31e12",
   "metadata": {},
   "source": [
    "### global"
   ]
  },
  {
   "cell_type": "code",
   "execution_count": null,
   "id": "ea47315a",
   "metadata": {},
   "outputs": [],
   "source": [
    "## 예측 대상 지역\n",
    "loc = \"부산\"\n",
    "\n",
    "## 데이터셋 shift 일수\n",
    "shift = 60"
   ]
  },
  {
   "cell_type": "markdown",
   "id": "4ae4c40b",
   "metadata": {},
   "source": [
    "### 전처리 데이터셋 input"
   ]
  },
  {
   "cell_type": "code",
   "execution_count": null,
   "id": "ac662eaf",
   "metadata": {},
   "outputs": [],
   "source": [
    "## 전처리셋\n",
    "가뭄지수 = pd.read_csv(\"../data/result/입력/가뭄지수_최종정리.csv\", index_col = 0)\n",
    "면적생산 = pd.read_csv(\"../data/result/입력/면적생산_최종정리.csv\", index_col = 0)\n",
    "일반유가 = pd.read_csv(\"../data/result/입력/일반유가_최종정리.csv\", index_col = 0)\n",
    "면세유가 = pd.read_csv(\"../data/result/입력/면세유가_최종정리.csv\", index_col = 0)\n",
    "수입량 = pd.read_csv(\"../data/result/입력/수입량_최종정리.csv\", index_col = 0)\n",
    "#도매가격 = pd.read_csv(f\"../data/final/도매_가격_완성본_13_21년도_재수정.csv\", index_col = 0)\n",
    "\n",
    "## 한국행정구역분류표\n",
    "addr = pd.read_excel('../data/지역/한국행정구역분류_2022.7.1.기준_20220630022706.xlsx', sheet_name = 1, header = [2, 2])\n",
    "addr.drop('Unnamed: 0_level_0', axis = 1, inplace = True)\n",
    "addr['시군구'].replace('예산시', '예산군')\n",
    "addr.columns = addr.columns.droplevel(1)\n",
    "\n",
    "## 21년도 도매가격 데이터\n",
    "도매가격 = pd.read_csv(f\"../data/도매가/보간/13_21_{loc}_도매가보간.csv\", index_col = 0)"
   ]
  },
  {
   "cell_type": "markdown",
   "id": "f9f2f9e2",
   "metadata": {},
   "source": [
    "### 데이터셋 input (최종학습데이터)"
   ]
  },
  {
   "cell_type": "code",
   "execution_count": null,
   "id": "8cf8175a",
   "metadata": {},
   "outputs": [],
   "source": [
    "data = pd.read_csv(f'../data/result/입력/학습데이터1차_{loc}.csv', index_col = 0)"
   ]
  },
  {
   "cell_type": "markdown",
   "id": "248e875b",
   "metadata": {},
   "source": [
    "### Shift"
   ]
  },
  {
   "cell_type": "code",
   "execution_count": null,
   "id": "ea1b21a1",
   "metadata": {},
   "outputs": [],
   "source": [
    "df_shift = copy.deepcopy(data)"
   ]
  },
  {
   "cell_type": "code",
   "execution_count": null,
   "id": "6585b8e4",
   "metadata": {},
   "outputs": [],
   "source": [
    "## 연도 컬럼 추가\n",
    "def helper(x) :\n",
    "    if (pd.isna(x)) :\n",
    "        return x\n",
    "    else :\n",
    "        return x[:4]\n",
    "\n",
    "df_shift['도매가격품명'] = ''\n",
    "df_shift['도매가격날짜'] = ''\n",
    "df_shift['도매가격연도'] = ''\n",
    "df_shift['도매가격품명'] = df_shift['품명']\n",
    "df_shift['도매가격날짜'] = df_shift['날짜'].apply(lambda x : str(x))\n",
    "df_shift['도매가격연도'] = df_shift['도매가격날짜'].apply(lambda x : helper(x))\n",
    "\n",
    "df_shift = pd.concat([df_shift.loc[:, '날짜' : 'EDI'], df_shift.loc[:, '도매가격' : '도매가격연도'].shift(-1 * shift)], axis = 1)"
   ]
  },
  {
   "cell_type": "markdown",
   "id": "3f34f11e",
   "metadata": {},
   "source": [
    "### 21년 데이터 concat."
   ]
  },
  {
   "cell_type": "code",
   "execution_count": null,
   "id": "b228a697",
   "metadata": {},
   "outputs": [],
   "source": [
    "df_domae = 도매가격.drop('지역', axis = 1)\n",
    "df_concat = df_shift.iloc[:, -4 :]"
   ]
  },
  {
   "cell_type": "code",
   "execution_count": null,
   "id": "65356a80",
   "metadata": {},
   "outputs": [],
   "source": [
    "df_concat_droped = df_concat.dropna()"
   ]
  },
  {
   "cell_type": "code",
   "execution_count": null,
   "id": "73daf9db",
   "metadata": {},
   "outputs": [],
   "source": [
    "## 연도 컬럼 추가\n",
    "def helper(x) :\n",
    "    if (pd.isna(x)) :\n",
    "        return x\n",
    "    else :\n",
    "        return x[:4]\n",
    "\n",
    "df_domae.columns = ['도매가격날짜', '도매가격품명', '도매가격']\n",
    "df_domae = df_domae[['도매가격', '도매가격품명', '도매가격날짜']]\n",
    "df_domae['도매가격연도'] = df_domae['도매가격날짜'].apply(lambda x : helper(x))"
   ]
  },
  {
   "cell_type": "code",
   "execution_count": null,
   "id": "78a4baa2",
   "metadata": {},
   "outputs": [],
   "source": [
    "## 기존 데이터셋에 없던 21년 이후 데이터를 추가\n",
    "idx = 도매가격[도매가격['날짜'] == '2021-01-01'].index\n",
    "df_domae = df_domae.iloc[idx[0] : idx[0] + shift, :]"
   ]
  },
  {
   "cell_type": "code",
   "execution_count": null,
   "id": "a3f8b1cc",
   "metadata": {},
   "outputs": [],
   "source": [
    "df_concat_final = pd.concat([df_concat_droped, df_domae]).reset_index(drop = True)\n",
    "df_concat_final"
   ]
  },
  {
   "cell_type": "code",
   "execution_count": null,
   "id": "a4af6014",
   "metadata": {},
   "outputs": [],
   "source": [
    "df_shift_concat = copy.deepcopy(df_shift)"
   ]
  },
  {
   "cell_type": "code",
   "execution_count": null,
   "id": "2d068fbe",
   "metadata": {},
   "outputs": [],
   "source": [
    "## 컬럼 정리\n",
    "df_shift_concat.drop(columns = ['도매가격', '도매가격품명', '도매가격날짜', '도매가격연도'], axis = 1, inplace = True)\n",
    "df_shift_concat = pd.concat([df_shift_concat, df_concat_final], axis = 1)"
   ]
  },
  {
   "cell_type": "markdown",
   "id": "65620e45",
   "metadata": {},
   "source": [
    "### 면적생산 merge"
   ]
  },
  {
   "cell_type": "code",
   "execution_count": null,
   "id": "f9c34c27",
   "metadata": {},
   "outputs": [],
   "source": [
    "df_area = copy.deepcopy(df_shift_concat)"
   ]
  },
  {
   "cell_type": "code",
   "execution_count": null,
   "id": "dd29d9f1",
   "metadata": {},
   "outputs": [],
   "source": [
    "면적생산['연도'] = 면적생산['연도'].apply(lambda x : str(x))"
   ]
  },
  {
   "cell_type": "code",
   "execution_count": null,
   "id": "72045f09",
   "metadata": {},
   "outputs": [],
   "source": [
    "# 연도 컬럼 추가\n",
    "def helper(x) :\n",
    "    if (pd.isna(x)) :\n",
    "        return x\n",
    "    else :\n",
    "        return x[:4]\n",
    "\n",
    "\n",
    "df_area['기존연도'] = df_area['날짜'].apply(lambda x : helper(x))"
   ]
  },
  {
   "cell_type": "code",
   "execution_count": null,
   "id": "2acdfe3f",
   "metadata": {
    "scrolled": true
   },
   "outputs": [],
   "source": [
    "df_area = pd.merge(df_area, 면적생산, left_on = ['기존연도', '도매가격품명'], right_on = ['연도', '품명'], how = 'left')\n",
    "df_area"
   ]
  },
  {
   "cell_type": "markdown",
   "id": "dd46b646",
   "metadata": {},
   "source": [
    "### 일반유가 merge"
   ]
  },
  {
   "cell_type": "code",
   "execution_count": null,
   "id": "fdc2f009",
   "metadata": {},
   "outputs": [],
   "source": [
    "df_taxoil = copy.deepcopy(df_area)"
   ]
  },
  {
   "cell_type": "markdown",
   "id": "514513c0",
   "metadata": {},
   "source": [
    "### 가뭄지수 관측지점의 시도명 추출 및 컬럼 추가"
   ]
  },
  {
   "cell_type": "code",
   "execution_count": null,
   "id": "92a62f52",
   "metadata": {},
   "outputs": [],
   "source": [
    "## 시도명 컬럼 추가 (time...)\n",
    "df_taxoil['시도명'] = ''\n",
    "\n",
    "## 시도명 탐색 후 대입\n",
    "def helper(target) :\n",
    "    if(pd.isna(target)) :\n",
    "        return target\n",
    "    \n",
    "    try :\n",
    "        ans = addr[addr['시군구'] == target].iloc[0]['시도']\n",
    "    except :\n",
    "        ans = addr[addr['시도'] == target].iloc[0]['시도']\n",
    "        \n",
    "    \n",
    "        \n",
    "    if ans[:2] in 면세유가['지역'].unique() :\n",
    "        return ans[:2]\n",
    "    else :\n",
    "        return (ans[0] + ans[2])\n",
    "\n",
    "df_taxoil['시도명'] = df_taxoil['지명_y'].apply(lambda x : helper(x))"
   ]
  },
  {
   "cell_type": "code",
   "execution_count": null,
   "id": "d04f459a",
   "metadata": {},
   "outputs": [],
   "source": [
    "df_taxoil = pd.merge(df_taxoil, 일반유가, left_on = ['날짜', '시도명'], right_on = ['날짜', '지역'], how = 'left')\n",
    "df_taxoil"
   ]
  },
  {
   "cell_type": "markdown",
   "id": "6af72e5d",
   "metadata": {},
   "source": [
    "### 면세유가 merge"
   ]
  },
  {
   "cell_type": "code",
   "execution_count": null,
   "id": "fd784541",
   "metadata": {},
   "outputs": [],
   "source": [
    "df_dutyfreeoil = copy.deepcopy(df_taxoil)"
   ]
  },
  {
   "cell_type": "code",
   "execution_count": null,
   "id": "38f0cd21",
   "metadata": {},
   "outputs": [],
   "source": [
    "df_dutyfreeoil = pd.merge(df_dutyfreeoil, 면세유가, left_on = ['날짜', '시도명'], right_on = ['날짜', '지역'], how = 'left')\n",
    "df_dutyfreeoil"
   ]
  },
  {
   "cell_type": "markdown",
   "id": "bd4091f7",
   "metadata": {},
   "source": [
    "### 수입량 merge"
   ]
  },
  {
   "cell_type": "code",
   "execution_count": null,
   "id": "e041b4d3",
   "metadata": {},
   "outputs": [],
   "source": [
    "df_import = copy.deepcopy(df_dutyfreeoil)"
   ]
  },
  {
   "cell_type": "code",
   "execution_count": null,
   "id": "cb1f1724",
   "metadata": {},
   "outputs": [],
   "source": [
    "# 수입량 시점 전처리\n",
    "def helper(x) :\n",
    "    if (pd.isna(x)) :\n",
    "        return x\n",
    "    \n",
    "    td = relativedelta(months = 1)\n",
    "    newDate = pd.to_datetime(x) - td\n",
    "    \n",
    "    y = newDate.year\n",
    "    m = newDate.month\n",
    "\n",
    "    if (m % 10 == m) :\n",
    "        m = '0' + str(m)\n",
    "    else :\n",
    "        pass\n",
    "\n",
    "    return (str(y) + '-' + str(m))\n",
    "\n",
    "# 도매가격연월 컬럼 추가\n",
    "df_import['도매가격연월'] = df_import['도매가격날짜'].apply(lambda x : helper(x))"
   ]
  },
  {
   "cell_type": "code",
   "execution_count": null,
   "id": "473762b9",
   "metadata": {},
   "outputs": [],
   "source": [
    "df_import = pd.merge(df_import, 수입량, left_on = '도매가격연월', right_on = '연월', how = 'left')\n",
    "df_import"
   ]
  },
  {
   "cell_type": "markdown",
   "id": "c525e6c9",
   "metadata": {},
   "source": [
    "### 가뭄지수 merge"
   ]
  },
  {
   "cell_type": "code",
   "execution_count": null,
   "id": "8ccf8f9e",
   "metadata": {},
   "outputs": [],
   "source": [
    "df_drought = copy.deepcopy(df_import)"
   ]
  },
  {
   "cell_type": "code",
   "execution_count": null,
   "id": "5b93325b",
   "metadata": {},
   "outputs": [],
   "source": [
    "df_drought = pd.merge(df_drought, 가뭄지수, left_on = ['날짜', '관측지점명_y'], right_on = ['발표일자', '시군명'], how = 'left')\n",
    "df_drought"
   ]
  },
  {
   "cell_type": "markdown",
   "id": "5e4e5a60",
   "metadata": {},
   "source": [
    "### 컬럼 정리"
   ]
  },
  {
   "cell_type": "code",
   "execution_count": null,
   "id": "a2a5da08",
   "metadata": {},
   "outputs": [],
   "source": [
    "df_columns = copy.deepcopy(df_drought)"
   ]
  },
  {
   "cell_type": "code",
   "execution_count": null,
   "id": "d426721f",
   "metadata": {},
   "outputs": [],
   "source": [
    "# drop 제외 대상\n",
    "protected = ['날짜', '도매가격', '도매가격품명', '도매가격날짜', '지명_y', '면적_y', '생산량_y', \n",
    "             '관측지점명_y', '시도명_y', '일반유가_y', '면세유가_y', '수입중량_y', 'SPI1_y',  'SPI3_y', 'EDI_y']"
   ]
  },
  {
   "cell_type": "code",
   "execution_count": null,
   "id": "0148b360",
   "metadata": {},
   "outputs": [],
   "source": [
    "li = []\n",
    "for item in list(df_columns.columns) :\n",
    "    if not item in protected :\n",
    "        li.append(item)\n",
    "        \n",
    "df_columns = df_columns.drop(columns = li)\n",
    "df_columns"
   ]
  },
  {
   "cell_type": "code",
   "execution_count": null,
   "id": "a8eeebe0",
   "metadata": {},
   "outputs": [],
   "source": [
    "df_columns.columns = ['날짜', '도매가격', '도매가격품명', '도매가격날짜', '지명', '면적', '생산량', '관측지점명',\n",
    "                 '일반유가', '면세유가', '수입중량(30일전)', 'SPI1', 'SPI3', 'EDI', '시도명']\n",
    "df_columns = df_columns[['날짜', '도매가격품명', '지명', '시도명', '관측지점명', '면적', '생산량', 'SPI1', 'SPI3', 'EDI', \n",
    "               '일반유가', '면세유가', '수입중량(30일전)', '도매가격날짜', '도매가격']]\n",
    "df_columns"
   ]
  },
  {
   "cell_type": "markdown",
   "id": "c2015a76",
   "metadata": {},
   "source": [
    "### 최종데이터셋 파일 저장"
   ]
  },
  {
   "cell_type": "code",
   "execution_count": null,
   "id": "e7fdb4da",
   "metadata": {},
   "outputs": [],
   "source": [
    "loc"
   ]
  },
  {
   "cell_type": "code",
   "execution_count": null,
   "id": "50b658e3",
   "metadata": {},
   "outputs": [],
   "source": [
    "df_result = copy.deepcopy(df_columns)\n",
    "df_result.info()"
   ]
  },
  {
   "cell_type": "code",
   "execution_count": null,
   "id": "c3958a44",
   "metadata": {},
   "outputs": [],
   "source": [
    "df_result.to_csv(f\"../data/result/출력/최종학습데이터_{loc}.csv\", encoding = 'utf-8-sig')"
   ]
  }
 ],
 "metadata": {
  "kernelspec": {
   "display_name": "Python 3 (ipykernel)",
   "language": "python",
   "name": "python3"
  },
  "language_info": {
   "codemirror_mode": {
    "name": "ipython",
    "version": 3
   },
   "file_extension": ".py",
   "mimetype": "text/x-python",
   "name": "python",
   "nbconvert_exporter": "python",
   "pygments_lexer": "ipython3",
   "version": "3.9.12"
  }
 },
 "nbformat": 4,
 "nbformat_minor": 5
}
